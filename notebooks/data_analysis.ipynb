{
 "cells": [
  {
   "cell_type": "markdown",
   "metadata": {},
   "source": [
    "# Setup\n",
    "\n",
    "Imports, helper functions and globals."
   ]
  },
  {
   "cell_type": "code",
   "execution_count": 90,
   "metadata": {},
   "outputs": [],
   "source": [
    "import matplotlib.pyplot as plt\n",
    "import numpy as np\n",
    "import os\n",
    "import pandas as pd\n",
    "from scipy.interpolate import interp1d"
   ]
  },
  {
   "cell_type": "code",
   "execution_count": 92,
   "metadata": {},
   "outputs": [],
   "source": [
    "# Globals.\n",
    "SAMPLE_RATE = 250\n",
    "DATA_PATH = \"../data\"\n",
    "\n",
    "# Helpers.\n",
    "def clean_data(df):\n",
    "    # Extract participant ID no.\n",
    "    pid = df['PID'][0]\n",
    "    \n",
    "    # Remove extrananeous rows/columns.\n",
    "    df = df.drop([0])\n",
    "    df = df.drop(columns=['tags', 'PID'])\n",
    "    return df, pid\n",
    "\n",
    "def resample_cursor_data(time_series, sample_rate=SAMPLE_RATE):\n",
    "    time_ms = [event['timeMs'] for event in time_series]\n",
    "    valence = [event['valence'] for event in time_series]\n",
    "    arousal = [event['arousal'] for event in time_series]\n",
    "    \n",
    "    time_ms.insert(0, 0.0)\n",
    "    valence.insert(0, 0.0)\n",
    "    arousal.insert(0, 0.0)\n",
    "    \n",
    "    valence_func = interp1d(time_ms, valence)\n",
    "    arousal_func = interp1d(time_ms, arousal)\n",
    "    \n",
    "    period = 1/SAMPLE_RATE\n",
    "    resample_time = np.arange(0, time_ms[-1], period)\n",
    "    \n",
    "    valence = valence_func(resample_time)\n",
    "    arousal = arousal_func(resample_time)\n",
    "    \n",
    "    time_s = resample_time / 1000\n",
    "    \n",
    "    return time_s, valence, arousal\n",
    "\n",
    "def my_plot(time, valence, arousal, show=True):\n",
    "    plt.plot(time, valence)\n",
    "    plt.plot(time, arousal)\n",
    "    plt.xlabel('Time (s)')\n",
    "    plt.ylabel('Normalized value')\n",
    "    plt.legend({'Valence', 'Arousal'})\n",
    "    if show:\n",
    "        plt.show()"
   ]
  },
  {
   "cell_type": "markdown",
   "metadata": {},
   "source": [
    "# Analysis\n",
    "\n",
    "Sample analysis below. Specify filename and trial number to visualize valence and arousal values over time."
   ]
  },
  {
   "cell_type": "code",
   "execution_count": 94,
   "metadata": {},
   "outputs": [
    {
     "data": {
      "image/png": "[encoded data removed]",
      "text/plain": [
       "<Figure size 432x288 with 1 Axes>"
      ]
     },
     "metadata": {
      "needs_background": "light"
     },
     "output_type": "display_data"
    }
   ],
   "source": [
    "# Read test data.\n",
    "filename = \"PID_14__2021-9-5_10h17-36.json\"\n",
    "trial_no = 12;\n",
    "\n",
    "# Get filepath.\n",
    "filepath = os.path.join(DATA_PATH, filename)\n",
    "\n",
    "# Load and clean data.\n",
    "df = pd.read_json(filepath)\n",
    "df, pid = clean_data(df)\n",
    "\n",
    "# Extract trial and resample cursor data.\n",
    "tmp = df.iloc[trial_no - 1]['time_series']\n",
    "time, valence, arousal = resample_cursor_data(tmp)\n",
    "\n",
    "my_plot(time, valence, arousal)"
   ]
  },
  {
   "cell_type": "code",
   "execution_count": null,
   "metadata": {},
   "outputs": [],
   "source": []
  }
 ],
 "metadata": {
  "kernelspec": {
   "display_name": "Python 3",
   "language": "python",
   "name": "python3"
  },
  "language_info": {
   "codemirror_mode": {
    "name": "ipython",
    "version": 3
   },
   "file_extension": ".py",
   "mimetype": "text/x-python",
   "name": "python",
   "nbconvert_exporter": "python",
   "pygments_lexer": "ipython3",
   "version": "3.7.3"
  }
 },
 "nbformat": 4,
 "nbformat_minor": 4
}
