{
 "cells": [
  {
   "cell_type": "code",
   "execution_count": 4,
   "metadata": {},
   "outputs": [],
   "source": [
    "import sys\n",
    "import numpy as np\n",
    "import tracemalloc\n"
   ]
  },
  {
   "cell_type": "code",
   "execution_count": 8,
   "metadata": {},
   "outputs": [],
   "source": [
    "def makeABigLocalArray():\n",
    "    arr = np.ones(90000000)\n",
    "    return(arr)"
   ]
  },
  {
   "cell_type": "code",
   "execution_count": 14,
   "metadata": {},
   "outputs": [
    {
     "name": "stdout",
     "output_type": "stream",
     "text": [
      "[ Top 10 ]\n",
      "/usr/lib/python3/dist-packages/numpy/core/numeric.py:214: size=671 GiB, count=7, average=95.8 GiB\n",
      "/usr/lib/python3.8/linecache.py:137: size=184 KiB, count=1971, average=95 B\n",
      "/usr/lib/python3.8/posixpath.py:368: size=11.7 KiB, count=114, average=105 B\n",
      "/usr/lib/python3.8/tracemalloc.py:479: size=10.0 KiB, count=177, average=58 B\n",
      "/home/dvdmrn/.local/lib/python3.8/site-packages/IPython/core/compilerop.py:101: size=8673 B, count=148, average=59 B\n",
      "/usr/lib/python3.8/tracemalloc.py:185: size=8304 B, count=173, average=48 B\n",
      "/usr/lib/python3.8/tracemalloc.py:472: size=7512 B, count=178, average=42 B\n",
      "/home/dvdmrn/.local/lib/python3.8/site-packages/IPython/core/compilerop.py:159: size=5751 B, count=74, average=78 B\n",
      "/usr/lib/python3.8/tokenize.py:528: size=3752 B, count=67, average=56 B\n",
      "/usr/lib/python3.8/tracemalloc.py:532: size=3424 B, count=63, average=54 B\n",
      "/usr/lib/python3.8/tokenize.py:598: size=2878 B, count=2, average=1439 B\n",
      "/home/dvdmrn/.local/lib/python3.8/site-packages/ipykernel/jsonutil.py:145: size=2672 B, count=14, average=191 B\n",
      "/usr/lib/python3/dist-packages/simplejson/decoder.py:400: size=2585 B, count=25, average=103 B\n",
      "/home/dvdmrn/.local/lib/python3.8/site-packages/jupyter_client/session.py:917: size=2554 B, count=22, average=116 B\n",
      "/usr/lib/python3.8/codeop.py:143: size=2474 B, count=37, average=67 B\n",
      "<ipython-input-12-c07560e8f108>:4: size=2208 B, count=1, average=2208 B\n",
      "/home/dvdmrn/.local/lib/python3.8/site-packages/IPython/core/history.py:709: size=2034 B, count=9, average=226 B\n",
      "/home/dvdmrn/.local/lib/python3.8/site-packages/IPython/core/history.py:710: size=1793 B, count=7, average=256 B\n",
      "/usr/lib/python3.8/tracemalloc.py:476: size=1548 B, count=55, average=28 B\n",
      "/usr/lib/python3.8/tracemalloc.py:508: size=1512 B, count=3, average=504 B\n"
     ]
    }
   ],
   "source": [
    "tracemalloc.start()\n",
    "\n",
    "x = makeABigLocalArray()\n",
    "y = makeABigLocalArray()\n",
    "\n",
    "x = None \n",
    "y = None\n",
    "\n",
    "snapshot = tracemalloc.take_snapshot()\n",
    "top_stats = snapshot.statistics('lineno')\n",
    "\n",
    "print(\"[ Top 10 ]\")\n",
    "for stat in top_stats[:20]:\n",
    "    print(stat)\n"
   ]
  }
 ],
 "metadata": {
  "interpreter": {
   "hash": "31f2aee4e71d21fbe5cf8b01ff0e069b9275f58929596ceb00d14d90e3e16cd6"
  },
  "kernelspec": {
   "display_name": "Python 3.8.10 64-bit",
   "name": "python3"
  },
  "language_info": {
   "codemirror_mode": {
    "name": "ipython",
    "version": 3
   },
   "file_extension": ".py",
   "mimetype": "text/x-python",
   "name": "python",
   "nbconvert_exporter": "python",
   "pygments_lexer": "ipython3",
   "version": "3.8.10"
  },
  "orig_nbformat": 4
 },
 "nbformat": 4,
 "nbformat_minor": 2
}
