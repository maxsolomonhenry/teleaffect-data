{
 "cells": [
  {
   "cell_type": "code",
   "execution_count": 7,
   "metadata": {},
   "outputs": [],
   "source": [
    "import matplotlib.pyplot as plt\n",
    "import numpy as np\n",
    "import os\n",
    "import pandas as pd\n",
    "from scipy.interpolate import interp1d\n",
    "import time as t"
   ]
  },
  {
   "cell_type": "markdown",
   "metadata": {},
   "source": [
    "## get individual session data from lomg"
   ]
  },
  {
   "cell_type": "code",
   "execution_count": 8,
   "metadata": {},
   "outputs": [],
   "source": [
    "LONG_DF = pd.read_csv('long_data_raw.csv')\n",
    "def getIndividualTrial(pid,trial):\n",
    "    return LONG_DF.loc[(LONG_DF.trial==trial) & (LONG_DF.pid==pid)]\n",
    "\n",
    "def getParticipantData(pid):\n",
    "    return LONG_DF.loc[LONG_DF.pid==pid]"
   ]
  },
  {
   "cell_type": "code",
   "execution_count": 9,
   "metadata": {},
   "outputs": [],
   "source": [
    "# stimming, can ignore\n",
    "\n",
    "# print(len(LONG_DF.loc[(LONG_DF.pid == 1), \"valence\"]))\n",
    "# print(len(LONG_DF.loc[(LONG_DF.pid == 1)]))\n",
    "\n",
    "\n"
   ]
  },
  {
   "cell_type": "code",
   "execution_count": 10,
   "metadata": {},
   "outputs": [
    {
     "name": "stdout",
     "output_type": "stream",
     "text": [
      ".................\n",
      "pid:  1\n",
      "before:  5319     0.268571\n",
      "5320     0.268571\n",
      "5321     0.268571\n",
      "5322     0.268571\n",
      "5323     0.268571\n",
      "           ...   \n",
      "85718   -1.040000\n",
      "85719   -1.040000\n",
      "85720   -1.034286\n",
      "85721   -1.034286\n",
      "85722   -1.034286\n",
      "Name: valence, Length: 5814, dtype: float64\n",
      "after:  5319    -0.448276\n",
      "5320    -0.448276\n",
      "5321    -0.448276\n",
      "5322    -0.448276\n",
      "5323    -0.448276\n",
      "           ...   \n",
      "85718    0.970443\n",
      "85719    0.970443\n",
      "85720    0.970443\n",
      "85721    0.970443\n",
      "85722    0.970443\n",
      "Name: arousal, Length: 5814, dtype: float64\n",
      ".................\n",
      "pid:  2\n",
      "before:  2020    -0.760000\n",
      "2021    -0.760000\n",
      "2022    -0.760000\n",
      "2023    -0.765714\n",
      "2024    -0.771429\n",
      "           ...   \n",
      "82967   -1.080000\n",
      "82968   -1.091429\n",
      "82969   -1.097143\n",
      "82970   -1.097143\n",
      "82971   -1.097143\n",
      "Name: valence, Length: 9994, dtype: float64\n",
      "after:  2020     0.409471\n",
      "2021     0.409471\n",
      "2022     0.409471\n",
      "2023     0.398329\n",
      "2024     0.381616\n",
      "           ...   \n",
      "82967    0.894150\n",
      "82968    0.910864\n",
      "82969    0.927577\n",
      "82970    0.933148\n",
      "82971    0.933148\n",
      "Name: arousal, Length: 9994, dtype: float64\n",
      ".................\n",
      "pid:  3\n",
      "before:  3859     0.451429\n",
      "3860     0.451429\n",
      "3861     0.451429\n",
      "3862     0.171429\n",
      "3863     0.234286\n",
      "           ...   \n",
      "71279    0.394286\n",
      "71280    0.400000\n",
      "71281    0.205714\n",
      "71282    0.205714\n",
      "71283    0.205714\n",
      "Name: valence, Length: 87, dtype: float64\n",
      "after:  3859    -0.460432\n",
      "3860    -0.460432\n",
      "3861    -0.460432\n",
      "3862    -0.755396\n",
      "3863    -0.733813\n",
      "           ...   \n",
      "71279   -0.237410\n",
      "71280    0.309353\n",
      "71281    0.568345\n",
      "71282    0.568345\n",
      "71283    0.568345\n",
      "Name: arousal, Length: 87, dtype: float64\n",
      ".................\n",
      "pid:  6\n",
      "before:  6904     0.000000\n",
      "6905     0.000000\n",
      "6906     0.000000\n",
      "6907     0.000000\n",
      "6908     0.000000\n",
      "           ...   \n",
      "64235    0.982857\n",
      "64236    0.982857\n",
      "64237    0.982857\n",
      "64238    0.982857\n",
      "64239    0.982857\n",
      "Name: valence, Length: 4869, dtype: float64\n",
      "after:  6904    -0.085890\n",
      "6905    -0.085890\n",
      "6906    -0.085890\n",
      "6907    -0.092025\n",
      "6908    -0.092025\n",
      "           ...   \n",
      "64235    0.478528\n",
      "64236    0.484663\n",
      "64237    0.490798\n",
      "64238    0.496933\n",
      "64239    0.496933\n",
      "Name: arousal, Length: 4869, dtype: float64\n",
      ".................\n",
      "pid:  7\n",
      "before:  4285     0.005714\n",
      "4286     0.005714\n",
      "4287     0.005714\n",
      "4288     0.005714\n",
      "4289     0.005714\n",
      "           ...   \n",
      "82529   -0.422857\n",
      "82530   -0.422857\n",
      "82531   -0.417143\n",
      "82532   -0.417143\n",
      "82533   -0.417143\n",
      "Name: valence, Length: 15739, dtype: float64\n",
      "after:  4285    -0.274648\n",
      "4286    -0.274648\n",
      "4287    -0.274648\n",
      "4288    -0.274648\n",
      "4289    -0.260563\n",
      "           ...   \n",
      "82529    0.676056\n",
      "82530    0.676056\n",
      "82531    0.683099\n",
      "82532    0.683099\n",
      "82533    0.683099\n",
      "Name: arousal, Length: 15739, dtype: float64\n",
      ".................\n",
      "pid:  8\n",
      "before:  1531     0.000000\n",
      "1532     0.000000\n",
      "1533     0.000000\n",
      "1534     0.000000\n",
      "1535     0.000000\n",
      "           ...   \n",
      "84038   -0.297143\n",
      "84039   -0.302857\n",
      "84040   -0.302857\n",
      "84041   -0.308571\n",
      "84042   -0.308571\n",
      "Name: valence, Length: 9753, dtype: float64\n",
      "after:  1531     0.121429\n",
      "1532     0.121429\n",
      "1533     0.121429\n",
      "1534     0.114286\n",
      "1535     0.078571\n",
      "           ...   \n",
      "84038   -0.557143\n",
      "84039   -0.557143\n",
      "84040   -0.557143\n",
      "84041   -0.557143\n",
      "84042   -0.557143\n",
      "Name: arousal, Length: 9753, dtype: float64\n",
      ".................\n",
      "pid:  9\n",
      "before:  0        0.005714\n",
      "1        0.005714\n",
      "2        0.005714\n",
      "3        0.022857\n",
      "4        0.028571\n",
      "           ...   \n",
      "76568   -0.971429\n",
      "76569   -0.971429\n",
      "76570   -0.977143\n",
      "76571   -0.977143\n",
      "76572   -0.977143\n",
      "Name: valence, Length: 3242, dtype: float64\n",
      "after:  0       -0.043478\n",
      "1       -0.043478\n",
      "2       -0.043478\n",
      "3       -0.024845\n",
      "4       -0.018634\n",
      "           ...   \n",
      "76568    0.577640\n",
      "76569    0.571429\n",
      "76570    0.571429\n",
      "76571    0.565217\n",
      "76572    0.565217\n",
      "Name: arousal, Length: 3242, dtype: float64\n",
      ".................\n",
      "pid:  11\n",
      "before:  16183    0.017143\n",
      "16184    0.017143\n",
      "16185    0.011429\n",
      "16186    0.011429\n",
      "16187    0.011429\n",
      "           ...   \n",
      "81551    0.828571\n",
      "81552    0.828571\n",
      "81553    0.834286\n",
      "81554    0.834286\n",
      "81555    0.834286\n",
      "Name: valence, Length: 10708, dtype: float64\n",
      "after:  16183    0.000000\n",
      "16184    0.000000\n",
      "16185    0.029412\n",
      "16186    0.036765\n",
      "16187    0.051471\n",
      "           ...   \n",
      "81551    0.088235\n",
      "81552    0.095588\n",
      "81553    0.102941\n",
      "81554    0.110294\n",
      "81555    0.110294\n",
      "Name: arousal, Length: 10708, dtype: float64\n",
      ".................\n",
      "pid:  12\n",
      "before:  312     -0.005714\n",
      "313     -0.005714\n",
      "314     -0.005714\n",
      "315     -0.005714\n",
      "316     -0.005714\n",
      "           ...   \n",
      "86372   -0.651429\n",
      "86373   -0.645714\n",
      "86374   -0.645714\n",
      "86375   -0.645714\n",
      "86376   -0.645714\n",
      "Name: valence, Length: 13828, dtype: float64\n",
      "after:  312     -0.047297\n",
      "313     -0.047297\n",
      "314     -0.047297\n",
      "315     -0.047297\n",
      "316     -0.047297\n",
      "           ...   \n",
      "86372   -0.878378\n",
      "86373   -0.878378\n",
      "86374   -0.878378\n",
      "86375   -0.878378\n",
      "86376   -0.878378\n",
      "Name: arousal, Length: 13828, dtype: float64\n",
      ".................\n",
      "pid:  13\n",
      "before:  6897     0.857143\n",
      "6898     0.857143\n",
      "6899     0.868571\n",
      "6900     0.765714\n",
      "6901     0.748571\n",
      "           ...   \n",
      "78503    0.897143\n",
      "78504    0.897143\n",
      "78505   -0.925714\n",
      "78506   -0.960000\n",
      "78507   -0.960000\n",
      "Name: valence, Length: 62, dtype: float64\n",
      "after:  6897     0.217647\n",
      "6898     0.217647\n",
      "6899     0.570588\n",
      "6900     0.264706\n",
      "6901     0.552941\n",
      "           ...   \n",
      "78503    0.905882\n",
      "78504    0.905882\n",
      "78505   -0.770588\n",
      "78506   -0.982353\n",
      "78507   -0.982353\n",
      "Name: arousal, Length: 62, dtype: float64\n",
      ".................\n",
      "pid:  16\n",
      "before:  7303    -0.005714\n",
      "7304    -0.005714\n",
      "7305    -0.005714\n",
      "7306    -0.017143\n",
      "7307    -0.022857\n",
      "           ...   \n",
      "85169    0.177143\n",
      "85170    0.177143\n",
      "85171    0.177143\n",
      "85172    0.171429\n",
      "85173    0.171429\n",
      "Name: valence, Length: 5346, dtype: float64\n",
      "after:  7303    -0.211382\n",
      "7304    -0.211382\n",
      "7305    -0.211382\n",
      "7306    -0.211382\n",
      "7307    -0.211382\n",
      "           ...   \n",
      "85169    0.130081\n",
      "85170    0.130081\n",
      "85171    0.130081\n",
      "85172    0.130081\n",
      "85173    0.130081\n",
      "Name: arousal, Length: 5346, dtype: float64\n",
      ".................\n",
      "pid:  20\n",
      "before:  3872    -0.017143\n",
      "3873    -0.017143\n",
      "3874    -0.017143\n",
      "3875    -0.022857\n",
      "3876    -0.022857\n",
      "           ...   \n",
      "74555   -0.628571\n",
      "74556   -0.622857\n",
      "74557   -0.617143\n",
      "74558   -0.611429\n",
      "74559   -0.611429\n",
      "Name: valence, Length: 6935, dtype: float64\n",
      "after:  3872    -0.060000\n",
      "3873    -0.060000\n",
      "3874    -0.066667\n",
      "3875    -0.073333\n",
      "3876    -0.080000\n",
      "           ...   \n",
      "74555    0.646667\n",
      "74556    0.646667\n",
      "74557    0.640000\n",
      "74558    0.633333\n",
      "74559    0.633333\n",
      "Name: arousal, Length: 6935, dtype: float64\n"
     ]
    }
   ],
   "source": [
    "def minMaxNormalize(x):\n",
    "    return 2 * ((x - min(x)) / (max(x)-min(x))) - 1\n",
    "\n",
    "for pid in set(LONG_DF.pid):\n",
    "    print(\".................\\npid: \",pid)\n",
    "    print(\"before: \", LONG_DF.loc[(LONG_DF.pid == pid), \"valence\"])\n",
    "\n",
    "    LONG_DF.loc[(LONG_DF.pid == pid), \"arousal\"] = minMaxNormalize(LONG_DF.loc[(\n",
    "        LONG_DF.pid == pid), \"arousal\"])\n",
    "    LONG_DF.loc[(LONG_DF.pid == pid), \"valence\"] = minMaxNormalize(LONG_DF.loc[(\n",
    "        LONG_DF.pid == pid), \"valence\"])\n",
    "        \n",
    "    print(\"after: \", LONG_DF.loc[(LONG_DF.pid == pid), \"arousal\"])\n",
    "\n"
   ]
  },
  {
   "cell_type": "code",
   "execution_count": 11,
   "metadata": {},
   "outputs": [],
   "source": [
    "# Globals.\n",
    "SAMPLE_RATE = 2 # prev 250\n",
    "DATA_PATH = \"../data\"\n",
    "\n",
    "# Helpers.\n",
    "\n",
    "\n",
    "# def clean_data(df):\n",
    "\n",
    "#     '''\n",
    "#     returns df, pid\n",
    "#     '''\n",
    "#     # Extract participant ID no.\n",
    "#     pid = df['PID'][0]\n",
    "\n",
    "#     # Remove extrananeous rows/columns.\n",
    "#     df = df.drop([0])\n",
    "#     df = df.drop(columns=['tags', 'PID'])\n",
    "#     return df, pid\n",
    "\n",
    "\n",
    "def resample_cursor_data(pid, trial, sample_rate=SAMPLE_RATE):\n",
    "    # time_ms = [event['timeMs'] for event in time_series]\n",
    "    # valence = [event['valence'] for event in time_series]\n",
    "    # arousal = [event['arousal'] for event in time_series]\n",
    "    \n",
    "    time_ms = np.array(getIndividualTrial(pid, trial).timeMs)\n",
    "    valence = np.array(getIndividualTrial(pid, trial).valence)\n",
    "    arousal = np.array(getIndividualTrial(pid, trial).arousal)\n",
    "    \n",
    "    time_ms = np.concatenate([[1000], time_ms])\n",
    "    valence = np.concatenate([[1000], valence])\n",
    "    arousal = np.concatenate([[1000], arousal])\n",
    "\n",
    "    # time_ms.insert(0, 0.0)\n",
    "    # valence.insert(0, 0.0)\n",
    "    # arousal.insert(0, 0.0)\n",
    "\n",
    "    valence_func = interp1d(time_ms, valence)\n",
    "    arousal_func = interp1d(time_ms, arousal)\n",
    "\n",
    "    period = 1/SAMPLE_RATE\n",
    "    resample_time = np.arange(1000, time_ms[-1], period)\n",
    "\n",
    "    valence = valence_func(resample_time)\n",
    "    arousal = arousal_func(resample_time)\n",
    "\n",
    "    time_s = resample_time / 1000\n",
    "\n",
    "    return time_s, valence, arousal\n",
    "\n",
    "    \n",
    "\n",
    "def my_plot(time, valence, arousal, show=True):\n",
    "    plt.plot(time, valence)\n",
    "    plt.plot(time, arousal)\n",
    "    plt.xlabel('Time (s)')\n",
    "    plt.ylabel('Normalized value')\n",
    "    plt.legend({'Valence', 'Arousal'})\n",
    "    if show:\n",
    "        plt.show()\n"
   ]
  },
  {
   "cell_type": "markdown",
   "metadata": {},
   "source": [
    "# Analysis\n",
    "\n",
    "Sample analysis below. Specify filename and trial number to visualize valence and arousal values over time."
   ]
  },
  {
   "cell_type": "markdown",
   "metadata": {},
   "source": [
    "## build new linear interpolated csv"
   ]
  },
  {
   "cell_type": "code",
   "execution_count": 12,
   "metadata": {},
   "outputs": [
    {
     "name": "stdout",
     "output_type": "stream",
     "text": [
      "Empty DataFrame\n",
      "Columns: [pid, arousal, valence, timeS, slideshow, viz, session, trial]\n",
      "Index: []\n",
      "accessing pid: 1; trial: 1; slideshow: A; viz B; session 3\n",
      " (0.020518064498901367s)\n"
     ]
    },
    {
     "name": "stderr",
     "output_type": "stream",
     "text": [
      "/home/dvdmrn/.local/lib/python3.8/site-packages/scipy/interpolate/interpolate.py:630: RuntimeWarning: divide by zero encountered in true_divide\n",
      "  slope = (y_hi - y_lo) / (x_hi - x_lo)[:, None]\n",
      "/home/dvdmrn/.local/lib/python3.8/site-packages/scipy/interpolate/interpolate.py:633: RuntimeWarning: invalid value encountered in multiply\n",
      "  y_new = slope*(x_new - x_lo)[:, None] + y_lo\n"
     ]
    },
    {
     "name": "stdout",
     "output_type": "stream",
     "text": [
      "concatenating pid: 1,trial: 1...\n",
      "accessing pid: 1; trial: 2; slideshow: A; viz 0; session 3\n",
      " (0.5688397884368896s)\n"
     ]
    },
    {
     "name": "stderr",
     "output_type": "stream",
     "text": [
      "/home/dvdmrn/.local/lib/python3.8/site-packages/scipy/interpolate/interpolate.py:630: RuntimeWarning: divide by zero encountered in true_divide\n",
      "  slope = (y_hi - y_lo) / (x_hi - x_lo)[:, None]\n",
      "/home/dvdmrn/.local/lib/python3.8/site-packages/scipy/interpolate/interpolate.py:633: RuntimeWarning: invalid value encountered in multiply\n",
      "  y_new = slope*(x_new - x_lo)[:, None] + y_lo\n"
     ]
    },
    {
     "name": "stdout",
     "output_type": "stream",
     "text": [
      "concatenating pid: 1,trial: 2...\n",
      "accessing pid: 1; trial: 3; slideshow: B; viz A; session 3\n",
      " (1.0720305442810059s)\n"
     ]
    },
    {
     "name": "stderr",
     "output_type": "stream",
     "text": [
      "/home/dvdmrn/.local/lib/python3.8/site-packages/scipy/interpolate/interpolate.py:630: RuntimeWarning: divide by zero encountered in true_divide\n",
      "  slope = (y_hi - y_lo) / (x_hi - x_lo)[:, None]\n",
      "/home/dvdmrn/.local/lib/python3.8/site-packages/scipy/interpolate/interpolate.py:633: RuntimeWarning: invalid value encountered in multiply\n",
      "  y_new = slope*(x_new - x_lo)[:, None] + y_lo\n"
     ]
    },
    {
     "name": "stdout",
     "output_type": "stream",
     "text": [
      "concatenating pid: 1,trial: 3...\n",
      "accessing pid: 1; trial: 4; slideshow: A; viz A; session 3\n",
      " (1.7413568496704102s)\n"
     ]
    },
    {
     "name": "stderr",
     "output_type": "stream",
     "text": [
      "/home/dvdmrn/.local/lib/python3.8/site-packages/scipy/interpolate/interpolate.py:630: RuntimeWarning: divide by zero encountered in true_divide\n",
      "  slope = (y_hi - y_lo) / (x_hi - x_lo)[:, None]\n",
      "/home/dvdmrn/.local/lib/python3.8/site-packages/scipy/interpolate/interpolate.py:633: RuntimeWarning: invalid value encountered in multiply\n",
      "  y_new = slope*(x_new - x_lo)[:, None] + y_lo\n"
     ]
    },
    {
     "name": "stdout",
     "output_type": "stream",
     "text": [
      "concatenating pid: 1,trial: 4...\n",
      "accessing pid: 1; trial: 5; slideshow: A; viz 0; session 3\n",
      " (2.247342824935913s)\n"
     ]
    },
    {
     "name": "stderr",
     "output_type": "stream",
     "text": [
      "/home/dvdmrn/.local/lib/python3.8/site-packages/scipy/interpolate/interpolate.py:630: RuntimeWarning: divide by zero encountered in true_divide\n",
      "  slope = (y_hi - y_lo) / (x_hi - x_lo)[:, None]\n",
      "/home/dvdmrn/.local/lib/python3.8/site-packages/scipy/interpolate/interpolate.py:633: RuntimeWarning: invalid value encountered in multiply\n",
      "  y_new = slope*(x_new - x_lo)[:, None] + y_lo\n"
     ]
    },
    {
     "name": "stdout",
     "output_type": "stream",
     "text": [
      "concatenating pid: 1,trial: 5...\n",
      "accessing pid: 1; trial: 6; slideshow: B; viz B; session 3\n",
      " (2.765178918838501s)\n"
     ]
    },
    {
     "name": "stderr",
     "output_type": "stream",
     "text": [
      "/home/dvdmrn/.local/lib/python3.8/site-packages/scipy/interpolate/interpolate.py:630: RuntimeWarning: divide by zero encountered in true_divide\n",
      "  slope = (y_hi - y_lo) / (x_hi - x_lo)[:, None]\n",
      "/home/dvdmrn/.local/lib/python3.8/site-packages/scipy/interpolate/interpolate.py:633: RuntimeWarning: invalid value encountered in multiply\n",
      "  y_new = slope*(x_new - x_lo)[:, None] + y_lo\n"
     ]
    },
    {
     "name": "stdout",
     "output_type": "stream",
     "text": [
      "concatenating pid: 1,trial: 6...\n",
      "accessing pid: 1; trial: 7; slideshow: A; viz A; session 3\n",
      " (3.52268123626709s)\n"
     ]
    },
    {
     "name": "stderr",
     "output_type": "stream",
     "text": [
      "/home/dvdmrn/.local/lib/python3.8/site-packages/scipy/interpolate/interpolate.py:630: RuntimeWarning: divide by zero encountered in true_divide\n",
      "  slope = (y_hi - y_lo) / (x_hi - x_lo)[:, None]\n",
      "/home/dvdmrn/.local/lib/python3.8/site-packages/scipy/interpolate/interpolate.py:633: RuntimeWarning: invalid value encountered in multiply\n",
      "  y_new = slope*(x_new - x_lo)[:, None] + y_lo\n"
     ]
    },
    {
     "name": "stdout",
     "output_type": "stream",
     "text": [
      "concatenating pid: 1,trial: 7...\n",
      "accessing pid: 1; trial: 8; slideshow: B; viz A; session 3\n",
      " (4.040525913238525s)\n"
     ]
    },
    {
     "name": "stderr",
     "output_type": "stream",
     "text": [
      "/home/dvdmrn/.local/lib/python3.8/site-packages/scipy/interpolate/interpolate.py:630: RuntimeWarning: divide by zero encountered in true_divide\n",
      "  slope = (y_hi - y_lo) / (x_hi - x_lo)[:, None]\n",
      "/home/dvdmrn/.local/lib/python3.8/site-packages/scipy/interpolate/interpolate.py:633: RuntimeWarning: invalid value encountered in multiply\n",
      "  y_new = slope*(x_new - x_lo)[:, None] + y_lo\n"
     ]
    },
    {
     "name": "stdout",
     "output_type": "stream",
     "text": [
      "concatenating pid: 1,trial: 8...\n",
      "accessing pid: 1; trial: 9; slideshow: A; viz B; session 3\n",
      " (4.735217809677124s)\n"
     ]
    },
    {
     "name": "stderr",
     "output_type": "stream",
     "text": [
      "/home/dvdmrn/.local/lib/python3.8/site-packages/scipy/interpolate/interpolate.py:630: RuntimeWarning: divide by zero encountered in true_divide\n",
      "  slope = (y_hi - y_lo) / (x_hi - x_lo)[:, None]\n",
      "/home/dvdmrn/.local/lib/python3.8/site-packages/scipy/interpolate/interpolate.py:633: RuntimeWarning: invalid value encountered in multiply\n",
      "  y_new = slope*(x_new - x_lo)[:, None] + y_lo\n"
     ]
    },
    {
     "name": "stdout",
     "output_type": "stream",
     "text": [
      "concatenating pid: 1,trial: 9...\n",
      "accessing pid: 1; trial: 10; slideshow: B; viz 0; session 3\n",
      " (5.259720325469971s)\n"
     ]
    },
    {
     "name": "stderr",
     "output_type": "stream",
     "text": [
      "/home/dvdmrn/.local/lib/python3.8/site-packages/scipy/interpolate/interpolate.py:630: RuntimeWarning: divide by zero encountered in true_divide\n",
      "  slope = (y_hi - y_lo) / (x_hi - x_lo)[:, None]\n",
      "/home/dvdmrn/.local/lib/python3.8/site-packages/scipy/interpolate/interpolate.py:633: RuntimeWarning: invalid value encountered in multiply\n",
      "  y_new = slope*(x_new - x_lo)[:, None] + y_lo\n"
     ]
    },
    {
     "name": "stdout",
     "output_type": "stream",
     "text": [
      "concatenating pid: 1,trial: 10...\n",
      "accessing pid: 1; trial: 11; slideshow: B; viz B; session 3\n",
      " (5.970393180847168s)\n"
     ]
    },
    {
     "name": "stderr",
     "output_type": "stream",
     "text": [
      "/home/dvdmrn/.local/lib/python3.8/site-packages/scipy/interpolate/interpolate.py:630: RuntimeWarning: divide by zero encountered in true_divide\n",
      "  slope = (y_hi - y_lo) / (x_hi - x_lo)[:, None]\n",
      "/home/dvdmrn/.local/lib/python3.8/site-packages/scipy/interpolate/interpolate.py:633: RuntimeWarning: invalid value encountered in multiply\n",
      "  y_new = slope*(x_new - x_lo)[:, None] + y_lo\n"
     ]
    },
    {
     "name": "stdout",
     "output_type": "stream",
     "text": [
      "concatenating pid: 1,trial: 11...\n",
      "accessing pid: 1; trial: 12; slideshow: B; viz 0; session 3\n",
      " (6.6737589836120605s)\n"
     ]
    },
    {
     "name": "stderr",
     "output_type": "stream",
     "text": [
      "/home/dvdmrn/.local/lib/python3.8/site-packages/scipy/interpolate/interpolate.py:630: RuntimeWarning: divide by zero encountered in true_divide\n",
      "  slope = (y_hi - y_lo) / (x_hi - x_lo)[:, None]\n",
      "/home/dvdmrn/.local/lib/python3.8/site-packages/scipy/interpolate/interpolate.py:633: RuntimeWarning: invalid value encountered in multiply\n",
      "  y_new = slope*(x_new - x_lo)[:, None] + y_lo\n"
     ]
    },
    {
     "name": "stdout",
     "output_type": "stream",
     "text": [
      "concatenating pid: 1,trial: 12...\n",
      "writing to: processed_data/1_interp_data.csv\n",
      "Empty DataFrame\n",
      "Columns: [pid, arousal, valence, timeS, slideshow, viz, session, trial]\n",
      "Index: []\n",
      "accessing pid: 2; trial: 1; slideshow: B; viz 0; session 4\n",
      " (13.241297960281372s)\n"
     ]
    },
    {
     "name": "stderr",
     "output_type": "stream",
     "text": [
      "/home/dvdmrn/.local/lib/python3.8/site-packages/scipy/interpolate/interpolate.py:630: RuntimeWarning: divide by zero encountered in true_divide\n",
      "  slope = (y_hi - y_lo) / (x_hi - x_lo)[:, None]\n",
      "/home/dvdmrn/.local/lib/python3.8/site-packages/scipy/interpolate/interpolate.py:633: RuntimeWarning: invalid value encountered in multiply\n",
      "  y_new = slope*(x_new - x_lo)[:, None] + y_lo\n"
     ]
    },
    {
     "name": "stdout",
     "output_type": "stream",
     "text": [
      "concatenating pid: 2,trial: 1...\n",
      "accessing pid: 2; trial: 2; slideshow: A; viz A; session 4\n",
      " (13.626784801483154s)\n"
     ]
    },
    {
     "name": "stderr",
     "output_type": "stream",
     "text": [
      "/home/dvdmrn/.local/lib/python3.8/site-packages/scipy/interpolate/interpolate.py:630: RuntimeWarning: divide by zero encountered in true_divide\n",
      "  slope = (y_hi - y_lo) / (x_hi - x_lo)[:, None]\n",
      "/home/dvdmrn/.local/lib/python3.8/site-packages/scipy/interpolate/interpolate.py:633: RuntimeWarning: invalid value encountered in multiply\n",
      "  y_new = slope*(x_new - x_lo)[:, None] + y_lo\n"
     ]
    },
    {
     "name": "stdout",
     "output_type": "stream",
     "text": [
      "concatenating pid: 2,trial: 2...\n",
      "accessing pid: 2; trial: 3; slideshow: B; viz A; session 4\n",
      " (14.285813570022583s)\n"
     ]
    },
    {
     "name": "stderr",
     "output_type": "stream",
     "text": [
      "/home/dvdmrn/.local/lib/python3.8/site-packages/scipy/interpolate/interpolate.py:630: RuntimeWarning: divide by zero encountered in true_divide\n",
      "  slope = (y_hi - y_lo) / (x_hi - x_lo)[:, None]\n",
      "/home/dvdmrn/.local/lib/python3.8/site-packages/scipy/interpolate/interpolate.py:633: RuntimeWarning: invalid value encountered in multiply\n",
      "  y_new = slope*(x_new - x_lo)[:, None] + y_lo\n"
     ]
    },
    {
     "name": "stdout",
     "output_type": "stream",
     "text": [
      "concatenating pid: 2,trial: 3...\n",
      "accessing pid: 2; trial: 4; slideshow: A; viz 0; session 4\n",
      " (14.677078247070312s)\n"
     ]
    },
    {
     "name": "stderr",
     "output_type": "stream",
     "text": [
      "/home/dvdmrn/.local/lib/python3.8/site-packages/scipy/interpolate/interpolate.py:630: RuntimeWarning: divide by zero encountered in true_divide\n",
      "  slope = (y_hi - y_lo) / (x_hi - x_lo)[:, None]\n",
      "/home/dvdmrn/.local/lib/python3.8/site-packages/scipy/interpolate/interpolate.py:633: RuntimeWarning: invalid value encountered in multiply\n",
      "  y_new = slope*(x_new - x_lo)[:, None] + y_lo\n"
     ]
    },
    {
     "name": "stdout",
     "output_type": "stream",
     "text": [
      "concatenating pid: 2,trial: 4...\n",
      "accessing pid: 2; trial: 5; slideshow: B; viz B; session 4\n",
      " (15.364566087722778s)\n"
     ]
    },
    {
     "name": "stderr",
     "output_type": "stream",
     "text": [
      "/home/dvdmrn/.local/lib/python3.8/site-packages/scipy/interpolate/interpolate.py:630: RuntimeWarning: divide by zero encountered in true_divide\n",
      "  slope = (y_hi - y_lo) / (x_hi - x_lo)[:, None]\n",
      "/home/dvdmrn/.local/lib/python3.8/site-packages/scipy/interpolate/interpolate.py:633: RuntimeWarning: invalid value encountered in multiply\n",
      "  y_new = slope*(x_new - x_lo)[:, None] + y_lo\n"
     ]
    },
    {
     "name": "stdout",
     "output_type": "stream",
     "text": [
      "concatenating pid: 2,trial: 5...\n",
      "accessing pid: 2; trial: 6; slideshow: B; viz A; session 4\n",
      " (15.742558479309082s)\n"
     ]
    },
    {
     "name": "stderr",
     "output_type": "stream",
     "text": [
      "/home/dvdmrn/.local/lib/python3.8/site-packages/scipy/interpolate/interpolate.py:630: RuntimeWarning: divide by zero encountered in true_divide\n",
      "  slope = (y_hi - y_lo) / (x_hi - x_lo)[:, None]\n",
      "/home/dvdmrn/.local/lib/python3.8/site-packages/scipy/interpolate/interpolate.py:633: RuntimeWarning: invalid value encountered in multiply\n",
      "  y_new = slope*(x_new - x_lo)[:, None] + y_lo\n"
     ]
    },
    {
     "name": "stdout",
     "output_type": "stream",
     "text": [
      "concatenating pid: 2,trial: 6...\n",
      "accessing pid: 2; trial: 7; slideshow: B; viz 0; session 4\n",
      " (16.13110876083374s)\n"
     ]
    },
    {
     "name": "stderr",
     "output_type": "stream",
     "text": [
      "/home/dvdmrn/.local/lib/python3.8/site-packages/scipy/interpolate/interpolate.py:630: RuntimeWarning: divide by zero encountered in true_divide\n",
      "  slope = (y_hi - y_lo) / (x_hi - x_lo)[:, None]\n",
      "/home/dvdmrn/.local/lib/python3.8/site-packages/scipy/interpolate/interpolate.py:633: RuntimeWarning: invalid value encountered in multiply\n",
      "  y_new = slope*(x_new - x_lo)[:, None] + y_lo\n"
     ]
    },
    {
     "name": "stdout",
     "output_type": "stream",
     "text": [
      "concatenating pid: 2,trial: 7...\n",
      "accessing pid: 2; trial: 8; slideshow: A; viz B; session 4\n",
      " (16.51491403579712s)\n"
     ]
    },
    {
     "name": "stderr",
     "output_type": "stream",
     "text": [
      "/home/dvdmrn/.local/lib/python3.8/site-packages/scipy/interpolate/interpolate.py:630: RuntimeWarning: divide by zero encountered in true_divide\n",
      "  slope = (y_hi - y_lo) / (x_hi - x_lo)[:, None]\n",
      "/home/dvdmrn/.local/lib/python3.8/site-packages/scipy/interpolate/interpolate.py:633: RuntimeWarning: invalid value encountered in multiply\n",
      "  y_new = slope*(x_new - x_lo)[:, None] + y_lo\n"
     ]
    },
    {
     "name": "stdout",
     "output_type": "stream",
     "text": [
      "concatenating pid: 2,trial: 8...\n",
      "accessing pid: 2; trial: 9; slideshow: A; viz A; session 4\n",
      " (17.23504376411438s)\n"
     ]
    },
    {
     "name": "stderr",
     "output_type": "stream",
     "text": [
      "/home/dvdmrn/.local/lib/python3.8/site-packages/scipy/interpolate/interpolate.py:630: RuntimeWarning: divide by zero encountered in true_divide\n",
      "  slope = (y_hi - y_lo) / (x_hi - x_lo)[:, None]\n",
      "/home/dvdmrn/.local/lib/python3.8/site-packages/scipy/interpolate/interpolate.py:633: RuntimeWarning: invalid value encountered in multiply\n",
      "  y_new = slope*(x_new - x_lo)[:, None] + y_lo\n"
     ]
    },
    {
     "name": "stdout",
     "output_type": "stream",
     "text": [
      "concatenating pid: 2,trial: 9...\n",
      "accessing pid: 2; trial: 10; slideshow: B; viz B; session 4\n",
      " (17.904259204864502s)\n"
     ]
    },
    {
     "name": "stderr",
     "output_type": "stream",
     "text": [
      "/home/dvdmrn/.local/lib/python3.8/site-packages/scipy/interpolate/interpolate.py:630: RuntimeWarning: divide by zero encountered in true_divide\n",
      "  slope = (y_hi - y_lo) / (x_hi - x_lo)[:, None]\n",
      "/home/dvdmrn/.local/lib/python3.8/site-packages/scipy/interpolate/interpolate.py:633: RuntimeWarning: invalid value encountered in multiply\n",
      "  y_new = slope*(x_new - x_lo)[:, None] + y_lo\n"
     ]
    },
    {
     "name": "stdout",
     "output_type": "stream",
     "text": [
      "concatenating pid: 2,trial: 10...\n",
      "accessing pid: 2; trial: 11; slideshow: A; viz B; session 4\n",
      " (18.290488958358765s)\n"
     ]
    },
    {
     "name": "stderr",
     "output_type": "stream",
     "text": [
      "/home/dvdmrn/.local/lib/python3.8/site-packages/scipy/interpolate/interpolate.py:630: RuntimeWarning: divide by zero encountered in true_divide\n",
      "  slope = (y_hi - y_lo) / (x_hi - x_lo)[:, None]\n",
      "/home/dvdmrn/.local/lib/python3.8/site-packages/scipy/interpolate/interpolate.py:633: RuntimeWarning: invalid value encountered in multiply\n",
      "  y_new = slope*(x_new - x_lo)[:, None] + y_lo\n"
     ]
    },
    {
     "name": "stdout",
     "output_type": "stream",
     "text": [
      "concatenating pid: 2,trial: 11...\n",
      "accessing pid: 2; trial: 12; slideshow: A; viz 0; session 4\n",
      " (19.02580690383911s)\n"
     ]
    },
    {
     "name": "stderr",
     "output_type": "stream",
     "text": [
      "/home/dvdmrn/.local/lib/python3.8/site-packages/scipy/interpolate/interpolate.py:630: RuntimeWarning: divide by zero encountered in true_divide\n",
      "  slope = (y_hi - y_lo) / (x_hi - x_lo)[:, None]\n",
      "/home/dvdmrn/.local/lib/python3.8/site-packages/scipy/interpolate/interpolate.py:633: RuntimeWarning: invalid value encountered in multiply\n",
      "  y_new = slope*(x_new - x_lo)[:, None] + y_lo\n"
     ]
    },
    {
     "name": "stdout",
     "output_type": "stream",
     "text": [
      "concatenating pid: 2,trial: 12...\n",
      "writing to: processed_data/2_interp_data.csv\n",
      "Empty DataFrame\n",
      "Columns: [pid, arousal, valence, timeS, slideshow, viz, session, trial]\n",
      "Index: []\n",
      "accessing pid: 3; trial: 1; slideshow: A; viz B; session 3\n",
      " (24.63054895401001s)\n"
     ]
    },
    {
     "name": "stderr",
     "output_type": "stream",
     "text": [
      "/home/dvdmrn/.local/lib/python3.8/site-packages/scipy/interpolate/interpolate.py:630: RuntimeWarning: divide by zero encountered in true_divide\n",
      "  slope = (y_hi - y_lo) / (x_hi - x_lo)[:, None]\n",
      "/home/dvdmrn/.local/lib/python3.8/site-packages/scipy/interpolate/interpolate.py:633: RuntimeWarning: invalid value encountered in multiply\n",
      "  y_new = slope*(x_new - x_lo)[:, None] + y_lo\n"
     ]
    },
    {
     "name": "stdout",
     "output_type": "stream",
     "text": [
      "concatenating pid: 3,trial: 1...\n",
      "accessing pid: 3; trial: 2; slideshow: B; viz 0; session 3\n",
      " (25.123546361923218s)\n"
     ]
    },
    {
     "name": "stderr",
     "output_type": "stream",
     "text": [
      "/home/dvdmrn/.local/lib/python3.8/site-packages/scipy/interpolate/interpolate.py:630: RuntimeWarning: divide by zero encountered in true_divide\n",
      "  slope = (y_hi - y_lo) / (x_hi - x_lo)[:, None]\n",
      "/home/dvdmrn/.local/lib/python3.8/site-packages/scipy/interpolate/interpolate.py:633: RuntimeWarning: invalid value encountered in multiply\n",
      "  y_new = slope*(x_new - x_lo)[:, None] + y_lo\n"
     ]
    },
    {
     "name": "stdout",
     "output_type": "stream",
     "text": [
      "concatenating pid: 3,trial: 2...\n",
      "accessing pid: 3; trial: 3; slideshow: A; viz 0; session 3\n",
      " (25.798254251480103s)\n"
     ]
    },
    {
     "name": "stderr",
     "output_type": "stream",
     "text": [
      "/home/dvdmrn/.local/lib/python3.8/site-packages/scipy/interpolate/interpolate.py:630: RuntimeWarning: divide by zero encountered in true_divide\n",
      "  slope = (y_hi - y_lo) / (x_hi - x_lo)[:, None]\n",
      "/home/dvdmrn/.local/lib/python3.8/site-packages/scipy/interpolate/interpolate.py:633: RuntimeWarning: invalid value encountered in multiply\n",
      "  y_new = slope*(x_new - x_lo)[:, None] + y_lo\n"
     ]
    },
    {
     "name": "stdout",
     "output_type": "stream",
     "text": [
      "concatenating pid: 3,trial: 3...\n",
      "accessing pid: 3; trial: 4; slideshow: B; viz B; session 3\n",
      " (26.30736517906189s)\n"
     ]
    },
    {
     "name": "stderr",
     "output_type": "stream",
     "text": [
      "/home/dvdmrn/.local/lib/python3.8/site-packages/scipy/interpolate/interpolate.py:630: RuntimeWarning: divide by zero encountered in true_divide\n",
      "  slope = (y_hi - y_lo) / (x_hi - x_lo)[:, None]\n",
      "/home/dvdmrn/.local/lib/python3.8/site-packages/scipy/interpolate/interpolate.py:633: RuntimeWarning: invalid value encountered in multiply\n",
      "  y_new = slope*(x_new - x_lo)[:, None] + y_lo\n"
     ]
    },
    {
     "name": "stdout",
     "output_type": "stream",
     "text": [
      "concatenating pid: 3,trial: 4...\n",
      "accessing pid: 3; trial: 5; slideshow: A; viz A; session 3\n",
      " (27.091521501541138s)\n"
     ]
    },
    {
     "name": "stderr",
     "output_type": "stream",
     "text": [
      "/home/dvdmrn/.local/lib/python3.8/site-packages/scipy/interpolate/interpolate.py:630: RuntimeWarning: divide by zero encountered in true_divide\n",
      "  slope = (y_hi - y_lo) / (x_hi - x_lo)[:, None]\n",
      "/home/dvdmrn/.local/lib/python3.8/site-packages/scipy/interpolate/interpolate.py:633: RuntimeWarning: invalid value encountered in multiply\n",
      "  y_new = slope*(x_new - x_lo)[:, None] + y_lo\n"
     ]
    },
    {
     "name": "stdout",
     "output_type": "stream",
     "text": [
      "concatenating pid: 3,trial: 5...\n",
      "accessing pid: 3; trial: 6; slideshow: B; viz A; session 3\n",
      " (27.7662410736084s)\n"
     ]
    },
    {
     "name": "stderr",
     "output_type": "stream",
     "text": [
      "/home/dvdmrn/.local/lib/python3.8/site-packages/scipy/interpolate/interpolate.py:630: RuntimeWarning: divide by zero encountered in true_divide\n",
      "  slope = (y_hi - y_lo) / (x_hi - x_lo)[:, None]\n",
      "/home/dvdmrn/.local/lib/python3.8/site-packages/scipy/interpolate/interpolate.py:633: RuntimeWarning: invalid value encountered in multiply\n",
      "  y_new = slope*(x_new - x_lo)[:, None] + y_lo\n"
     ]
    },
    {
     "name": "stdout",
     "output_type": "stream",
     "text": [
      "concatenating pid: 3,trial: 6...\n",
      "accessing pid: 3; trial: 7; slideshow: A; viz A; session 3\n",
      " (28.531124591827393s)\n"
     ]
    },
    {
     "name": "stderr",
     "output_type": "stream",
     "text": [
      "/home/dvdmrn/.local/lib/python3.8/site-packages/scipy/interpolate/interpolate.py:630: RuntimeWarning: divide by zero encountered in true_divide\n",
      "  slope = (y_hi - y_lo) / (x_hi - x_lo)[:, None]\n",
      "/home/dvdmrn/.local/lib/python3.8/site-packages/scipy/interpolate/interpolate.py:633: RuntimeWarning: invalid value encountered in multiply\n",
      "  y_new = slope*(x_new - x_lo)[:, None] + y_lo\n"
     ]
    },
    {
     "name": "stdout",
     "output_type": "stream",
     "text": [
      "concatenating pid: 3,trial: 7...\n",
      "accessing pid: 3; trial: 8; slideshow: B; viz 0; session 3\n",
      " (29.04716658592224s)\n"
     ]
    },
    {
     "name": "stderr",
     "output_type": "stream",
     "text": [
      "/home/dvdmrn/.local/lib/python3.8/site-packages/scipy/interpolate/interpolate.py:630: RuntimeWarning: divide by zero encountered in true_divide\n",
      "  slope = (y_hi - y_lo) / (x_hi - x_lo)[:, None]\n",
      "/home/dvdmrn/.local/lib/python3.8/site-packages/scipy/interpolate/interpolate.py:633: RuntimeWarning: invalid value encountered in multiply\n",
      "  y_new = slope*(x_new - x_lo)[:, None] + y_lo\n"
     ]
    },
    {
     "name": "stdout",
     "output_type": "stream",
     "text": [
      "concatenating pid: 3,trial: 8...\n",
      "accessing pid: 3; trial: 9; slideshow: B; viz A; session 3\n",
      " (29.702820539474487s)\n"
     ]
    },
    {
     "name": "stderr",
     "output_type": "stream",
     "text": [
      "/home/dvdmrn/.local/lib/python3.8/site-packages/scipy/interpolate/interpolate.py:630: RuntimeWarning: divide by zero encountered in true_divide\n",
      "  slope = (y_hi - y_lo) / (x_hi - x_lo)[:, None]\n",
      "/home/dvdmrn/.local/lib/python3.8/site-packages/scipy/interpolate/interpolate.py:633: RuntimeWarning: invalid value encountered in multiply\n",
      "  y_new = slope*(x_new - x_lo)[:, None] + y_lo\n"
     ]
    },
    {
     "name": "stdout",
     "output_type": "stream",
     "text": [
      "concatenating pid: 3,trial: 9...\n",
      "accessing pid: 3; trial: 10; slideshow: A; viz B; session 3\n",
      " (30.383525609970093s)\n"
     ]
    },
    {
     "name": "stderr",
     "output_type": "stream",
     "text": [
      "/home/dvdmrn/.local/lib/python3.8/site-packages/scipy/interpolate/interpolate.py:630: RuntimeWarning: divide by zero encountered in true_divide\n",
      "  slope = (y_hi - y_lo) / (x_hi - x_lo)[:, None]\n",
      "/home/dvdmrn/.local/lib/python3.8/site-packages/scipy/interpolate/interpolate.py:633: RuntimeWarning: invalid value encountered in multiply\n",
      "  y_new = slope*(x_new - x_lo)[:, None] + y_lo\n"
     ]
    },
    {
     "name": "stdout",
     "output_type": "stream",
     "text": [
      "concatenating pid: 3,trial: 10...\n",
      "accessing pid: 3; trial: 11; slideshow: A; viz 0; session 3\n",
      " (30.968247413635254s)\n"
     ]
    },
    {
     "name": "stderr",
     "output_type": "stream",
     "text": [
      "/home/dvdmrn/.local/lib/python3.8/site-packages/scipy/interpolate/interpolate.py:630: RuntimeWarning: divide by zero encountered in true_divide\n",
      "  slope = (y_hi - y_lo) / (x_hi - x_lo)[:, None]\n",
      "/home/dvdmrn/.local/lib/python3.8/site-packages/scipy/interpolate/interpolate.py:633: RuntimeWarning: invalid value encountered in multiply\n",
      "  y_new = slope*(x_new - x_lo)[:, None] + y_lo\n"
     ]
    },
    {
     "name": "stdout",
     "output_type": "stream",
     "text": [
      "concatenating pid: 3,trial: 11...\n",
      "accessing pid: 3; trial: 12; slideshow: B; viz B; session 3\n",
      " (31.832234621047974s)\n"
     ]
    },
    {
     "name": "stderr",
     "output_type": "stream",
     "text": [
      "/home/dvdmrn/.local/lib/python3.8/site-packages/scipy/interpolate/interpolate.py:630: RuntimeWarning: divide by zero encountered in true_divide\n",
      "  slope = (y_hi - y_lo) / (x_hi - x_lo)[:, None]\n",
      "/home/dvdmrn/.local/lib/python3.8/site-packages/scipy/interpolate/interpolate.py:633: RuntimeWarning: invalid value encountered in multiply\n",
      "  y_new = slope*(x_new - x_lo)[:, None] + y_lo\n"
     ]
    },
    {
     "name": "stdout",
     "output_type": "stream",
     "text": [
      "concatenating pid: 3,trial: 12...\n",
      "writing to: processed_data/3_interp_data.csv\n",
      "Empty DataFrame\n",
      "Columns: [pid, arousal, valence, timeS, slideshow, viz, session, trial]\n",
      "Index: []\n",
      "accessing pid: 6; trial: 1; slideshow: A; viz 0; session 4\n",
      " (38.652355909347534s)\n"
     ]
    },
    {
     "name": "stderr",
     "output_type": "stream",
     "text": [
      "/home/dvdmrn/.local/lib/python3.8/site-packages/scipy/interpolate/interpolate.py:630: RuntimeWarning: divide by zero encountered in true_divide\n",
      "  slope = (y_hi - y_lo) / (x_hi - x_lo)[:, None]\n",
      "/home/dvdmrn/.local/lib/python3.8/site-packages/scipy/interpolate/interpolate.py:633: RuntimeWarning: invalid value encountered in multiply\n",
      "  y_new = slope*(x_new - x_lo)[:, None] + y_lo\n"
     ]
    },
    {
     "name": "stdout",
     "output_type": "stream",
     "text": [
      "concatenating pid: 6,trial: 1...\n",
      "accessing pid: 6; trial: 2; slideshow: B; viz B; session 4\n",
      " (39.41665029525757s)\n"
     ]
    },
    {
     "name": "stderr",
     "output_type": "stream",
     "text": [
      "/home/dvdmrn/.local/lib/python3.8/site-packages/scipy/interpolate/interpolate.py:630: RuntimeWarning: divide by zero encountered in true_divide\n",
      "  slope = (y_hi - y_lo) / (x_hi - x_lo)[:, None]\n",
      "/home/dvdmrn/.local/lib/python3.8/site-packages/scipy/interpolate/interpolate.py:633: RuntimeWarning: invalid value encountered in multiply\n",
      "  y_new = slope*(x_new - x_lo)[:, None] + y_lo\n"
     ]
    },
    {
     "name": "stdout",
     "output_type": "stream",
     "text": [
      "concatenating pid: 6,trial: 2...\n",
      "accessing pid: 6; trial: 3; slideshow: B; viz 0; session 4\n",
      " (39.7842800617218s)\n"
     ]
    },
    {
     "name": "stderr",
     "output_type": "stream",
     "text": [
      "/home/dvdmrn/.local/lib/python3.8/site-packages/scipy/interpolate/interpolate.py:630: RuntimeWarning: divide by zero encountered in true_divide\n",
      "  slope = (y_hi - y_lo) / (x_hi - x_lo)[:, None]\n",
      "/home/dvdmrn/.local/lib/python3.8/site-packages/scipy/interpolate/interpolate.py:633: RuntimeWarning: invalid value encountered in multiply\n",
      "  y_new = slope*(x_new - x_lo)[:, None] + y_lo\n"
     ]
    },
    {
     "name": "stdout",
     "output_type": "stream",
     "text": [
      "concatenating pid: 6,trial: 3...\n",
      "accessing pid: 6; trial: 4; slideshow: A; viz B; session 4\n",
      " (40.17773985862732s)\n"
     ]
    },
    {
     "name": "stderr",
     "output_type": "stream",
     "text": [
      "/home/dvdmrn/.local/lib/python3.8/site-packages/scipy/interpolate/interpolate.py:630: RuntimeWarning: divide by zero encountered in true_divide\n",
      "  slope = (y_hi - y_lo) / (x_hi - x_lo)[:, None]\n",
      "/home/dvdmrn/.local/lib/python3.8/site-packages/scipy/interpolate/interpolate.py:633: RuntimeWarning: invalid value encountered in multiply\n",
      "  y_new = slope*(x_new - x_lo)[:, None] + y_lo\n"
     ]
    },
    {
     "name": "stdout",
     "output_type": "stream",
     "text": [
      "concatenating pid: 6,trial: 4...\n",
      "accessing pid: 6; trial: 5; slideshow: A; viz 0; session 4\n",
      " (40.84125828742981s)\n"
     ]
    },
    {
     "name": "stderr",
     "output_type": "stream",
     "text": [
      "/home/dvdmrn/.local/lib/python3.8/site-packages/scipy/interpolate/interpolate.py:630: RuntimeWarning: divide by zero encountered in true_divide\n",
      "  slope = (y_hi - y_lo) / (x_hi - x_lo)[:, None]\n",
      "/home/dvdmrn/.local/lib/python3.8/site-packages/scipy/interpolate/interpolate.py:633: RuntimeWarning: invalid value encountered in multiply\n",
      "  y_new = slope*(x_new - x_lo)[:, None] + y_lo\n"
     ]
    },
    {
     "name": "stdout",
     "output_type": "stream",
     "text": [
      "concatenating pid: 6,trial: 5...\n",
      "accessing pid: 6; trial: 6; slideshow: B; viz A; session 4\n",
      " (41.57455897331238s)\n"
     ]
    },
    {
     "name": "stderr",
     "output_type": "stream",
     "text": [
      "/home/dvdmrn/.local/lib/python3.8/site-packages/scipy/interpolate/interpolate.py:630: RuntimeWarning: divide by zero encountered in true_divide\n",
      "  slope = (y_hi - y_lo) / (x_hi - x_lo)[:, None]\n",
      "/home/dvdmrn/.local/lib/python3.8/site-packages/scipy/interpolate/interpolate.py:633: RuntimeWarning: invalid value encountered in multiply\n",
      "  y_new = slope*(x_new - x_lo)[:, None] + y_lo\n"
     ]
    },
    {
     "name": "stdout",
     "output_type": "stream",
     "text": [
      "concatenating pid: 6,trial: 6...\n",
      "accessing pid: 6; trial: 7; slideshow: A; viz B; session 4\n",
      " (41.94362926483154s)\n"
     ]
    },
    {
     "name": "stderr",
     "output_type": "stream",
     "text": [
      "/home/dvdmrn/.local/lib/python3.8/site-packages/scipy/interpolate/interpolate.py:630: RuntimeWarning: divide by zero encountered in true_divide\n",
      "  slope = (y_hi - y_lo) / (x_hi - x_lo)[:, None]\n",
      "/home/dvdmrn/.local/lib/python3.8/site-packages/scipy/interpolate/interpolate.py:633: RuntimeWarning: invalid value encountered in multiply\n",
      "  y_new = slope*(x_new - x_lo)[:, None] + y_lo\n"
     ]
    },
    {
     "name": "stdout",
     "output_type": "stream",
     "text": [
      "concatenating pid: 6,trial: 7...\n",
      "accessing pid: 6; trial: 8; slideshow: B; viz B; session 4\n",
      " (42.60320448875427s)\n"
     ]
    },
    {
     "name": "stderr",
     "output_type": "stream",
     "text": [
      "/home/dvdmrn/.local/lib/python3.8/site-packages/scipy/interpolate/interpolate.py:630: RuntimeWarning: divide by zero encountered in true_divide\n",
      "  slope = (y_hi - y_lo) / (x_hi - x_lo)[:, None]\n",
      "/home/dvdmrn/.local/lib/python3.8/site-packages/scipy/interpolate/interpolate.py:633: RuntimeWarning: invalid value encountered in multiply\n",
      "  y_new = slope*(x_new - x_lo)[:, None] + y_lo\n"
     ]
    },
    {
     "name": "stdout",
     "output_type": "stream",
     "text": [
      "concatenating pid: 6,trial: 8...\n",
      "accessing pid: 6; trial: 9; slideshow: B; viz A; session 4\n",
      " (42.97472858428955s)\n"
     ]
    },
    {
     "name": "stderr",
     "output_type": "stream",
     "text": [
      "/home/dvdmrn/.local/lib/python3.8/site-packages/scipy/interpolate/interpolate.py:630: RuntimeWarning: divide by zero encountered in true_divide\n",
      "  slope = (y_hi - y_lo) / (x_hi - x_lo)[:, None]\n",
      "/home/dvdmrn/.local/lib/python3.8/site-packages/scipy/interpolate/interpolate.py:633: RuntimeWarning: invalid value encountered in multiply\n",
      "  y_new = slope*(x_new - x_lo)[:, None] + y_lo\n"
     ]
    },
    {
     "name": "stdout",
     "output_type": "stream",
     "text": [
      "concatenating pid: 6,trial: 9...\n",
      "accessing pid: 6; trial: 10; slideshow: A; viz A; session 4\n",
      " (43.338359117507935s)\n"
     ]
    },
    {
     "name": "stderr",
     "output_type": "stream",
     "text": [
      "/home/dvdmrn/.local/lib/python3.8/site-packages/scipy/interpolate/interpolate.py:630: RuntimeWarning: divide by zero encountered in true_divide\n",
      "  slope = (y_hi - y_lo) / (x_hi - x_lo)[:, None]\n",
      "/home/dvdmrn/.local/lib/python3.8/site-packages/scipy/interpolate/interpolate.py:633: RuntimeWarning: invalid value encountered in multiply\n",
      "  y_new = slope*(x_new - x_lo)[:, None] + y_lo\n"
     ]
    },
    {
     "name": "stdout",
     "output_type": "stream",
     "text": [
      "concatenating pid: 6,trial: 10...\n",
      "accessing pid: 6; trial: 11; slideshow: B; viz 0; session 4\n",
      " (44.019373655319214s)\n"
     ]
    },
    {
     "name": "stderr",
     "output_type": "stream",
     "text": [
      "/home/dvdmrn/.local/lib/python3.8/site-packages/scipy/interpolate/interpolate.py:630: RuntimeWarning: divide by zero encountered in true_divide\n",
      "  slope = (y_hi - y_lo) / (x_hi - x_lo)[:, None]\n",
      "/home/dvdmrn/.local/lib/python3.8/site-packages/scipy/interpolate/interpolate.py:633: RuntimeWarning: invalid value encountered in multiply\n",
      "  y_new = slope*(x_new - x_lo)[:, None] + y_lo\n"
     ]
    },
    {
     "name": "stdout",
     "output_type": "stream",
     "text": [
      "concatenating pid: 6,trial: 11...\n",
      "accessing pid: 6; trial: 12; slideshow: A; viz A; session 4\n",
      " (44.48380899429321s)\n"
     ]
    },
    {
     "name": "stderr",
     "output_type": "stream",
     "text": [
      "/home/dvdmrn/.local/lib/python3.8/site-packages/scipy/interpolate/interpolate.py:630: RuntimeWarning: divide by zero encountered in true_divide\n",
      "  slope = (y_hi - y_lo) / (x_hi - x_lo)[:, None]\n",
      "/home/dvdmrn/.local/lib/python3.8/site-packages/scipy/interpolate/interpolate.py:633: RuntimeWarning: invalid value encountered in multiply\n",
      "  y_new = slope*(x_new - x_lo)[:, None] + y_lo\n"
     ]
    },
    {
     "name": "stdout",
     "output_type": "stream",
     "text": [
      "concatenating pid: 6,trial: 12...\n",
      "writing to: processed_data/6_interp_data.csv\n",
      "Empty DataFrame\n",
      "Columns: [pid, arousal, valence, timeS, slideshow, viz, session, trial]\n",
      "Index: []\n",
      "accessing pid: 7; trial: 1; slideshow: B; viz B; session 3\n",
      " (50.11637210845947s)\n"
     ]
    },
    {
     "name": "stderr",
     "output_type": "stream",
     "text": [
      "/home/dvdmrn/.local/lib/python3.8/site-packages/scipy/interpolate/interpolate.py:630: RuntimeWarning: divide by zero encountered in true_divide\n",
      "  slope = (y_hi - y_lo) / (x_hi - x_lo)[:, None]\n",
      "/home/dvdmrn/.local/lib/python3.8/site-packages/scipy/interpolate/interpolate.py:633: RuntimeWarning: invalid value encountered in multiply\n",
      "  y_new = slope*(x_new - x_lo)[:, None] + y_lo\n"
     ]
    },
    {
     "name": "stdout",
     "output_type": "stream",
     "text": [
      "concatenating pid: 7,trial: 1...\n",
      "accessing pid: 7; trial: 2; slideshow: A; viz B; session 3\n",
      " (50.76189827919006s)\n"
     ]
    },
    {
     "name": "stderr",
     "output_type": "stream",
     "text": [
      "/home/dvdmrn/.local/lib/python3.8/site-packages/scipy/interpolate/interpolate.py:630: RuntimeWarning: divide by zero encountered in true_divide\n",
      "  slope = (y_hi - y_lo) / (x_hi - x_lo)[:, None]\n",
      "/home/dvdmrn/.local/lib/python3.8/site-packages/scipy/interpolate/interpolate.py:633: RuntimeWarning: invalid value encountered in multiply\n",
      "  y_new = slope*(x_new - x_lo)[:, None] + y_lo\n"
     ]
    },
    {
     "name": "stdout",
     "output_type": "stream",
     "text": [
      "concatenating pid: 7,trial: 2...\n",
      "accessing pid: 7; trial: 3; slideshow: A; viz A; session 3\n",
      " (51.26264691352844s)\n"
     ]
    },
    {
     "name": "stderr",
     "output_type": "stream",
     "text": [
      "/home/dvdmrn/.local/lib/python3.8/site-packages/scipy/interpolate/interpolate.py:630: RuntimeWarning: divide by zero encountered in true_divide\n",
      "  slope = (y_hi - y_lo) / (x_hi - x_lo)[:, None]\n",
      "/home/dvdmrn/.local/lib/python3.8/site-packages/scipy/interpolate/interpolate.py:633: RuntimeWarning: invalid value encountered in multiply\n",
      "  y_new = slope*(x_new - x_lo)[:, None] + y_lo\n"
     ]
    },
    {
     "name": "stdout",
     "output_type": "stream",
     "text": [
      "concatenating pid: 7,trial: 3...\n",
      "accessing pid: 7; trial: 4; slideshow: A; viz A; session 3\n",
      " (51.75500965118408s)\n"
     ]
    },
    {
     "name": "stderr",
     "output_type": "stream",
     "text": [
      "/home/dvdmrn/.local/lib/python3.8/site-packages/scipy/interpolate/interpolate.py:630: RuntimeWarning: divide by zero encountered in true_divide\n",
      "  slope = (y_hi - y_lo) / (x_hi - x_lo)[:, None]\n",
      "/home/dvdmrn/.local/lib/python3.8/site-packages/scipy/interpolate/interpolate.py:633: RuntimeWarning: invalid value encountered in multiply\n",
      "  y_new = slope*(x_new - x_lo)[:, None] + y_lo\n"
     ]
    },
    {
     "name": "stdout",
     "output_type": "stream",
     "text": [
      "concatenating pid: 7,trial: 4...\n",
      "accessing pid: 7; trial: 5; slideshow: B; viz 0; session 3\n",
      " (52.26379680633545s)\n"
     ]
    },
    {
     "name": "stderr",
     "output_type": "stream",
     "text": [
      "/home/dvdmrn/.local/lib/python3.8/site-packages/scipy/interpolate/interpolate.py:630: RuntimeWarning: divide by zero encountered in true_divide\n",
      "  slope = (y_hi - y_lo) / (x_hi - x_lo)[:, None]\n",
      "/home/dvdmrn/.local/lib/python3.8/site-packages/scipy/interpolate/interpolate.py:633: RuntimeWarning: invalid value encountered in multiply\n",
      "  y_new = slope*(x_new - x_lo)[:, None] + y_lo\n"
     ]
    },
    {
     "name": "stdout",
     "output_type": "stream",
     "text": [
      "concatenating pid: 7,trial: 5...\n",
      "accessing pid: 7; trial: 6; slideshow: B; viz 0; session 3\n",
      " (52.92447543144226s)\n"
     ]
    },
    {
     "name": "stderr",
     "output_type": "stream",
     "text": [
      "/home/dvdmrn/.local/lib/python3.8/site-packages/scipy/interpolate/interpolate.py:630: RuntimeWarning: divide by zero encountered in true_divide\n",
      "  slope = (y_hi - y_lo) / (x_hi - x_lo)[:, None]\n",
      "/home/dvdmrn/.local/lib/python3.8/site-packages/scipy/interpolate/interpolate.py:633: RuntimeWarning: invalid value encountered in multiply\n",
      "  y_new = slope*(x_new - x_lo)[:, None] + y_lo\n"
     ]
    },
    {
     "name": "stdout",
     "output_type": "stream",
     "text": [
      "concatenating pid: 7,trial: 6...\n",
      "accessing pid: 7; trial: 7; slideshow: A; viz 0; session 3\n",
      " (53.572771310806274s)\n"
     ]
    },
    {
     "name": "stderr",
     "output_type": "stream",
     "text": [
      "/home/dvdmrn/.local/lib/python3.8/site-packages/scipy/interpolate/interpolate.py:630: RuntimeWarning: divide by zero encountered in true_divide\n",
      "  slope = (y_hi - y_lo) / (x_hi - x_lo)[:, None]\n",
      "/home/dvdmrn/.local/lib/python3.8/site-packages/scipy/interpolate/interpolate.py:633: RuntimeWarning: invalid value encountered in multiply\n",
      "  y_new = slope*(x_new - x_lo)[:, None] + y_lo\n"
     ]
    },
    {
     "name": "stdout",
     "output_type": "stream",
     "text": [
      "concatenating pid: 7,trial: 7...\n",
      "accessing pid: 7; trial: 8; slideshow: B; viz B; session 3\n",
      " (54.1407675743103s)\n"
     ]
    },
    {
     "name": "stderr",
     "output_type": "stream",
     "text": [
      "/home/dvdmrn/.local/lib/python3.8/site-packages/scipy/interpolate/interpolate.py:630: RuntimeWarning: divide by zero encountered in true_divide\n",
      "  slope = (y_hi - y_lo) / (x_hi - x_lo)[:, None]\n",
      "/home/dvdmrn/.local/lib/python3.8/site-packages/scipy/interpolate/interpolate.py:633: RuntimeWarning: invalid value encountered in multiply\n",
      "  y_new = slope*(x_new - x_lo)[:, None] + y_lo\n"
     ]
    },
    {
     "name": "stdout",
     "output_type": "stream",
     "text": [
      "concatenating pid: 7,trial: 8...\n",
      "accessing pid: 7; trial: 9; slideshow: A; viz B; session 3\n",
      " (54.829566955566406s)\n"
     ]
    },
    {
     "name": "stderr",
     "output_type": "stream",
     "text": [
      "/home/dvdmrn/.local/lib/python3.8/site-packages/scipy/interpolate/interpolate.py:630: RuntimeWarning: divide by zero encountered in true_divide\n",
      "  slope = (y_hi - y_lo) / (x_hi - x_lo)[:, None]\n",
      "/home/dvdmrn/.local/lib/python3.8/site-packages/scipy/interpolate/interpolate.py:633: RuntimeWarning: invalid value encountered in multiply\n",
      "  y_new = slope*(x_new - x_lo)[:, None] + y_lo\n"
     ]
    },
    {
     "name": "stdout",
     "output_type": "stream",
     "text": [
      "concatenating pid: 7,trial: 9...\n",
      "accessing pid: 7; trial: 10; slideshow: A; viz 0; session 3\n",
      " (55.39019560813904s)\n"
     ]
    },
    {
     "name": "stderr",
     "output_type": "stream",
     "text": [
      "/home/dvdmrn/.local/lib/python3.8/site-packages/scipy/interpolate/interpolate.py:630: RuntimeWarning: divide by zero encountered in true_divide\n",
      "  slope = (y_hi - y_lo) / (x_hi - x_lo)[:, None]\n",
      "/home/dvdmrn/.local/lib/python3.8/site-packages/scipy/interpolate/interpolate.py:633: RuntimeWarning: invalid value encountered in multiply\n",
      "  y_new = slope*(x_new - x_lo)[:, None] + y_lo\n"
     ]
    },
    {
     "name": "stdout",
     "output_type": "stream",
     "text": [
      "concatenating pid: 7,trial: 10...\n",
      "accessing pid: 7; trial: 11; slideshow: B; viz A; session 3\n",
      " (55.92929291725159s)\n"
     ]
    },
    {
     "name": "stderr",
     "output_type": "stream",
     "text": [
      "/home/dvdmrn/.local/lib/python3.8/site-packages/scipy/interpolate/interpolate.py:630: RuntimeWarning: divide by zero encountered in true_divide\n",
      "  slope = (y_hi - y_lo) / (x_hi - x_lo)[:, None]\n",
      "/home/dvdmrn/.local/lib/python3.8/site-packages/scipy/interpolate/interpolate.py:633: RuntimeWarning: invalid value encountered in multiply\n",
      "  y_new = slope*(x_new - x_lo)[:, None] + y_lo\n"
     ]
    },
    {
     "name": "stdout",
     "output_type": "stream",
     "text": [
      "concatenating pid: 7,trial: 11...\n",
      "accessing pid: 7; trial: 12; slideshow: B; viz A; session 3\n",
      " (56.72578454017639s)\n"
     ]
    },
    {
     "name": "stderr",
     "output_type": "stream",
     "text": [
      "/home/dvdmrn/.local/lib/python3.8/site-packages/scipy/interpolate/interpolate.py:630: RuntimeWarning: divide by zero encountered in true_divide\n",
      "  slope = (y_hi - y_lo) / (x_hi - x_lo)[:, None]\n",
      "/home/dvdmrn/.local/lib/python3.8/site-packages/scipy/interpolate/interpolate.py:633: RuntimeWarning: invalid value encountered in multiply\n",
      "  y_new = slope*(x_new - x_lo)[:, None] + y_lo\n"
     ]
    },
    {
     "name": "stdout",
     "output_type": "stream",
     "text": [
      "concatenating pid: 7,trial: 12...\n",
      "writing to: processed_data/7_interp_data.csv\n",
      "Empty DataFrame\n",
      "Columns: [pid, arousal, valence, timeS, slideshow, viz, session, trial]\n",
      "Index: []\n",
      "accessing pid: 8; trial: 1; slideshow: B; viz 0; session 4\n",
      " (63.978010177612305s)\n"
     ]
    },
    {
     "name": "stderr",
     "output_type": "stream",
     "text": [
      "/home/dvdmrn/.local/lib/python3.8/site-packages/scipy/interpolate/interpolate.py:630: RuntimeWarning: divide by zero encountered in true_divide\n",
      "  slope = (y_hi - y_lo) / (x_hi - x_lo)[:, None]\n",
      "/home/dvdmrn/.local/lib/python3.8/site-packages/scipy/interpolate/interpolate.py:633: RuntimeWarning: invalid value encountered in multiply\n",
      "  y_new = slope*(x_new - x_lo)[:, None] + y_lo\n"
     ]
    },
    {
     "name": "stdout",
     "output_type": "stream",
     "text": [
      "concatenating pid: 8,trial: 1...\n",
      "accessing pid: 8; trial: 2; slideshow: A; viz 0; session 4\n",
      " (64.42346382141113s)\n"
     ]
    },
    {
     "name": "stderr",
     "output_type": "stream",
     "text": [
      "/home/dvdmrn/.local/lib/python3.8/site-packages/scipy/interpolate/interpolate.py:630: RuntimeWarning: divide by zero encountered in true_divide\n",
      "  slope = (y_hi - y_lo) / (x_hi - x_lo)[:, None]\n",
      "/home/dvdmrn/.local/lib/python3.8/site-packages/scipy/interpolate/interpolate.py:633: RuntimeWarning: invalid value encountered in multiply\n",
      "  y_new = slope*(x_new - x_lo)[:, None] + y_lo\n"
     ]
    },
    {
     "name": "stdout",
     "output_type": "stream",
     "text": [
      "concatenating pid: 8,trial: 2...\n",
      "accessing pid: 8; trial: 3; slideshow: A; viz B; session 4\n",
      " (65.20963191986084s)\n"
     ]
    },
    {
     "name": "stderr",
     "output_type": "stream",
     "text": [
      "/home/dvdmrn/.local/lib/python3.8/site-packages/scipy/interpolate/interpolate.py:630: RuntimeWarning: divide by zero encountered in true_divide\n",
      "  slope = (y_hi - y_lo) / (x_hi - x_lo)[:, None]\n",
      "/home/dvdmrn/.local/lib/python3.8/site-packages/scipy/interpolate/interpolate.py:633: RuntimeWarning: invalid value encountered in multiply\n",
      "  y_new = slope*(x_new - x_lo)[:, None] + y_lo\n"
     ]
    },
    {
     "name": "stdout",
     "output_type": "stream",
     "text": [
      "concatenating pid: 8,trial: 3...\n",
      "accessing pid: 8; trial: 4; slideshow: B; viz 0; session 4\n",
      " (66.03745293617249s)\n"
     ]
    },
    {
     "name": "stderr",
     "output_type": "stream",
     "text": [
      "/home/dvdmrn/.local/lib/python3.8/site-packages/scipy/interpolate/interpolate.py:630: RuntimeWarning: divide by zero encountered in true_divide\n",
      "  slope = (y_hi - y_lo) / (x_hi - x_lo)[:, None]\n",
      "/home/dvdmrn/.local/lib/python3.8/site-packages/scipy/interpolate/interpolate.py:633: RuntimeWarning: invalid value encountered in multiply\n",
      "  y_new = slope*(x_new - x_lo)[:, None] + y_lo\n"
     ]
    },
    {
     "name": "stdout",
     "output_type": "stream",
     "text": [
      "concatenating pid: 8,trial: 4...\n",
      "accessing pid: 8; trial: 5; slideshow: B; viz A; session 4\n",
      " (66.48268580436707s)\n"
     ]
    },
    {
     "name": "stderr",
     "output_type": "stream",
     "text": [
      "/home/dvdmrn/.local/lib/python3.8/site-packages/scipy/interpolate/interpolate.py:630: RuntimeWarning: divide by zero encountered in true_divide\n",
      "  slope = (y_hi - y_lo) / (x_hi - x_lo)[:, None]\n",
      "/home/dvdmrn/.local/lib/python3.8/site-packages/scipy/interpolate/interpolate.py:633: RuntimeWarning: invalid value encountered in multiply\n",
      "  y_new = slope*(x_new - x_lo)[:, None] + y_lo\n"
     ]
    },
    {
     "name": "stdout",
     "output_type": "stream",
     "text": [
      "concatenating pid: 8,trial: 5...\n",
      "accessing pid: 8; trial: 6; slideshow: B; viz B; session 4\n",
      " (66.85206627845764s)\n"
     ]
    },
    {
     "name": "stderr",
     "output_type": "stream",
     "text": [
      "/home/dvdmrn/.local/lib/python3.8/site-packages/scipy/interpolate/interpolate.py:630: RuntimeWarning: divide by zero encountered in true_divide\n",
      "  slope = (y_hi - y_lo) / (x_hi - x_lo)[:, None]\n",
      "/home/dvdmrn/.local/lib/python3.8/site-packages/scipy/interpolate/interpolate.py:633: RuntimeWarning: invalid value encountered in multiply\n",
      "  y_new = slope*(x_new - x_lo)[:, None] + y_lo\n"
     ]
    },
    {
     "name": "stdout",
     "output_type": "stream",
     "text": [
      "concatenating pid: 8,trial: 6...\n",
      "accessing pid: 8; trial: 7; slideshow: A; viz 0; session 4\n",
      " (67.24344205856323s)\n"
     ]
    },
    {
     "name": "stderr",
     "output_type": "stream",
     "text": [
      "/home/dvdmrn/.local/lib/python3.8/site-packages/scipy/interpolate/interpolate.py:630: RuntimeWarning: divide by zero encountered in true_divide\n",
      "  slope = (y_hi - y_lo) / (x_hi - x_lo)[:, None]\n",
      "/home/dvdmrn/.local/lib/python3.8/site-packages/scipy/interpolate/interpolate.py:633: RuntimeWarning: invalid value encountered in multiply\n",
      "  y_new = slope*(x_new - x_lo)[:, None] + y_lo\n"
     ]
    },
    {
     "name": "stdout",
     "output_type": "stream",
     "text": [
      "concatenating pid: 8,trial: 7...\n",
      "accessing pid: 8; trial: 8; slideshow: B; viz A; session 4\n",
      " (67.98698568344116s)\n"
     ]
    },
    {
     "name": "stderr",
     "output_type": "stream",
     "text": [
      "/home/dvdmrn/.local/lib/python3.8/site-packages/scipy/interpolate/interpolate.py:630: RuntimeWarning: divide by zero encountered in true_divide\n",
      "  slope = (y_hi - y_lo) / (x_hi - x_lo)[:, None]\n",
      "/home/dvdmrn/.local/lib/python3.8/site-packages/scipy/interpolate/interpolate.py:633: RuntimeWarning: invalid value encountered in multiply\n",
      "  y_new = slope*(x_new - x_lo)[:, None] + y_lo\n"
     ]
    },
    {
     "name": "stdout",
     "output_type": "stream",
     "text": [
      "concatenating pid: 8,trial: 8...\n",
      "accessing pid: 8; trial: 9; slideshow: A; viz B; session 4\n",
      " (68.38184523582458s)\n"
     ]
    },
    {
     "name": "stderr",
     "output_type": "stream",
     "text": [
      "/home/dvdmrn/.local/lib/python3.8/site-packages/scipy/interpolate/interpolate.py:630: RuntimeWarning: divide by zero encountered in true_divide\n",
      "  slope = (y_hi - y_lo) / (x_hi - x_lo)[:, None]\n",
      "/home/dvdmrn/.local/lib/python3.8/site-packages/scipy/interpolate/interpolate.py:633: RuntimeWarning: invalid value encountered in multiply\n",
      "  y_new = slope*(x_new - x_lo)[:, None] + y_lo\n"
     ]
    },
    {
     "name": "stdout",
     "output_type": "stream",
     "text": [
      "concatenating pid: 8,trial: 9...\n",
      "accessing pid: 8; trial: 10; slideshow: A; viz A; session 4\n",
      " (69.12164497375488s)\n"
     ]
    },
    {
     "name": "stderr",
     "output_type": "stream",
     "text": [
      "/home/dvdmrn/.local/lib/python3.8/site-packages/scipy/interpolate/interpolate.py:630: RuntimeWarning: divide by zero encountered in true_divide\n",
      "  slope = (y_hi - y_lo) / (x_hi - x_lo)[:, None]\n",
      "/home/dvdmrn/.local/lib/python3.8/site-packages/scipy/interpolate/interpolate.py:633: RuntimeWarning: invalid value encountered in multiply\n",
      "  y_new = slope*(x_new - x_lo)[:, None] + y_lo\n"
     ]
    },
    {
     "name": "stdout",
     "output_type": "stream",
     "text": [
      "concatenating pid: 8,trial: 10...\n",
      "accessing pid: 8; trial: 11; slideshow: B; viz B; session 4\n",
      " (69.79037261009216s)\n"
     ]
    },
    {
     "name": "stderr",
     "output_type": "stream",
     "text": [
      "/home/dvdmrn/.local/lib/python3.8/site-packages/scipy/interpolate/interpolate.py:630: RuntimeWarning: divide by zero encountered in true_divide\n",
      "  slope = (y_hi - y_lo) / (x_hi - x_lo)[:, None]\n",
      "/home/dvdmrn/.local/lib/python3.8/site-packages/scipy/interpolate/interpolate.py:633: RuntimeWarning: invalid value encountered in multiply\n",
      "  y_new = slope*(x_new - x_lo)[:, None] + y_lo\n"
     ]
    },
    {
     "name": "stdout",
     "output_type": "stream",
     "text": [
      "concatenating pid: 8,trial: 11...\n",
      "accessing pid: 8; trial: 12; slideshow: A; viz A; session 4\n",
      " (70.15271472930908s)\n"
     ]
    },
    {
     "name": "stderr",
     "output_type": "stream",
     "text": [
      "/home/dvdmrn/.local/lib/python3.8/site-packages/scipy/interpolate/interpolate.py:630: RuntimeWarning: divide by zero encountered in true_divide\n",
      "  slope = (y_hi - y_lo) / (x_hi - x_lo)[:, None]\n",
      "/home/dvdmrn/.local/lib/python3.8/site-packages/scipy/interpolate/interpolate.py:633: RuntimeWarning: invalid value encountered in multiply\n",
      "  y_new = slope*(x_new - x_lo)[:, None] + y_lo\n"
     ]
    },
    {
     "name": "stdout",
     "output_type": "stream",
     "text": [
      "concatenating pid: 8,trial: 12...\n",
      "writing to: processed_data/8_interp_data.csv\n",
      "Empty DataFrame\n",
      "Columns: [pid, arousal, valence, timeS, slideshow, viz, session, trial]\n",
      "Index: []\n",
      "accessing pid: 9; trial: 1; slideshow: B; viz A; session 3\n",
      " (75.50427174568176s)\n"
     ]
    },
    {
     "name": "stderr",
     "output_type": "stream",
     "text": [
      "/home/dvdmrn/.local/lib/python3.8/site-packages/scipy/interpolate/interpolate.py:630: RuntimeWarning: divide by zero encountered in true_divide\n",
      "  slope = (y_hi - y_lo) / (x_hi - x_lo)[:, None]\n",
      "/home/dvdmrn/.local/lib/python3.8/site-packages/scipy/interpolate/interpolate.py:633: RuntimeWarning: invalid value encountered in multiply\n",
      "  y_new = slope*(x_new - x_lo)[:, None] + y_lo\n"
     ]
    },
    {
     "name": "stdout",
     "output_type": "stream",
     "text": [
      "concatenating pid: 9,trial: 1...\n",
      "accessing pid: 9; trial: 2; slideshow: A; viz 0; session 3\n",
      " (76.16717147827148s)\n"
     ]
    },
    {
     "name": "stderr",
     "output_type": "stream",
     "text": [
      "/home/dvdmrn/.local/lib/python3.8/site-packages/scipy/interpolate/interpolate.py:630: RuntimeWarning: divide by zero encountered in true_divide\n",
      "  slope = (y_hi - y_lo) / (x_hi - x_lo)[:, None]\n",
      "/home/dvdmrn/.local/lib/python3.8/site-packages/scipy/interpolate/interpolate.py:633: RuntimeWarning: invalid value encountered in multiply\n",
      "  y_new = slope*(x_new - x_lo)[:, None] + y_lo\n"
     ]
    },
    {
     "name": "stdout",
     "output_type": "stream",
     "text": [
      "concatenating pid: 9,trial: 2...\n",
      "accessing pid: 9; trial: 3; slideshow: B; viz 0; session 3\n",
      " (76.69621419906616s)\n"
     ]
    },
    {
     "name": "stderr",
     "output_type": "stream",
     "text": [
      "/home/dvdmrn/.local/lib/python3.8/site-packages/scipy/interpolate/interpolate.py:630: RuntimeWarning: divide by zero encountered in true_divide\n",
      "  slope = (y_hi - y_lo) / (x_hi - x_lo)[:, None]\n",
      "/home/dvdmrn/.local/lib/python3.8/site-packages/scipy/interpolate/interpolate.py:633: RuntimeWarning: invalid value encountered in multiply\n",
      "  y_new = slope*(x_new - x_lo)[:, None] + y_lo\n"
     ]
    },
    {
     "name": "stdout",
     "output_type": "stream",
     "text": [
      "concatenating pid: 9,trial: 3...\n",
      "accessing pid: 9; trial: 4; slideshow: A; viz B; session 3\n",
      " (77.3443648815155s)\n"
     ]
    },
    {
     "name": "stderr",
     "output_type": "stream",
     "text": [
      "/home/dvdmrn/.local/lib/python3.8/site-packages/scipy/interpolate/interpolate.py:630: RuntimeWarning: divide by zero encountered in true_divide\n",
      "  slope = (y_hi - y_lo) / (x_hi - x_lo)[:, None]\n",
      "/home/dvdmrn/.local/lib/python3.8/site-packages/scipy/interpolate/interpolate.py:633: RuntimeWarning: invalid value encountered in multiply\n",
      "  y_new = slope*(x_new - x_lo)[:, None] + y_lo\n"
     ]
    },
    {
     "name": "stdout",
     "output_type": "stream",
     "text": [
      "concatenating pid: 9,trial: 4...\n",
      "accessing pid: 9; trial: 5; slideshow: B; viz 0; session 3\n",
      " (77.83025193214417s)\n"
     ]
    },
    {
     "name": "stderr",
     "output_type": "stream",
     "text": [
      "/home/dvdmrn/.local/lib/python3.8/site-packages/scipy/interpolate/interpolate.py:630: RuntimeWarning: divide by zero encountered in true_divide\n",
      "  slope = (y_hi - y_lo) / (x_hi - x_lo)[:, None]\n",
      "/home/dvdmrn/.local/lib/python3.8/site-packages/scipy/interpolate/interpolate.py:633: RuntimeWarning: invalid value encountered in multiply\n",
      "  y_new = slope*(x_new - x_lo)[:, None] + y_lo\n"
     ]
    },
    {
     "name": "stdout",
     "output_type": "stream",
     "text": [
      "concatenating pid: 9,trial: 5...\n",
      "accessing pid: 9; trial: 6; slideshow: A; viz 0; session 3\n",
      " (78.51024746894836s)\n"
     ]
    },
    {
     "name": "stderr",
     "output_type": "stream",
     "text": [
      "/home/dvdmrn/.local/lib/python3.8/site-packages/scipy/interpolate/interpolate.py:630: RuntimeWarning: divide by zero encountered in true_divide\n",
      "  slope = (y_hi - y_lo) / (x_hi - x_lo)[:, None]\n",
      "/home/dvdmrn/.local/lib/python3.8/site-packages/scipy/interpolate/interpolate.py:633: RuntimeWarning: invalid value encountered in multiply\n",
      "  y_new = slope*(x_new - x_lo)[:, None] + y_lo\n"
     ]
    },
    {
     "name": "stdout",
     "output_type": "stream",
     "text": [
      "concatenating pid: 9,trial: 6...\n",
      "accessing pid: 9; trial: 7; slideshow: A; viz A; session 3\n",
      " (78.9850058555603s)\n"
     ]
    },
    {
     "name": "stderr",
     "output_type": "stream",
     "text": [
      "/home/dvdmrn/.local/lib/python3.8/site-packages/scipy/interpolate/interpolate.py:630: RuntimeWarning: divide by zero encountered in true_divide\n",
      "  slope = (y_hi - y_lo) / (x_hi - x_lo)[:, None]\n",
      "/home/dvdmrn/.local/lib/python3.8/site-packages/scipy/interpolate/interpolate.py:633: RuntimeWarning: invalid value encountered in multiply\n",
      "  y_new = slope*(x_new - x_lo)[:, None] + y_lo\n"
     ]
    },
    {
     "name": "stdout",
     "output_type": "stream",
     "text": [
      "concatenating pid: 9,trial: 7...\n",
      "accessing pid: 9; trial: 8; slideshow: B; viz B; session 3\n",
      " (79.45860290527344s)\n"
     ]
    },
    {
     "name": "stderr",
     "output_type": "stream",
     "text": [
      "/home/dvdmrn/.local/lib/python3.8/site-packages/scipy/interpolate/interpolate.py:630: RuntimeWarning: divide by zero encountered in true_divide\n",
      "  slope = (y_hi - y_lo) / (x_hi - x_lo)[:, None]\n",
      "/home/dvdmrn/.local/lib/python3.8/site-packages/scipy/interpolate/interpolate.py:633: RuntimeWarning: invalid value encountered in multiply\n",
      "  y_new = slope*(x_new - x_lo)[:, None] + y_lo\n"
     ]
    },
    {
     "name": "stdout",
     "output_type": "stream",
     "text": [
      "concatenating pid: 9,trial: 8...\n",
      "accessing pid: 9; trial: 9; slideshow: A; viz B; session 3\n",
      " (80.1283209323883s)\n"
     ]
    },
    {
     "name": "stderr",
     "output_type": "stream",
     "text": [
      "/home/dvdmrn/.local/lib/python3.8/site-packages/scipy/interpolate/interpolate.py:630: RuntimeWarning: divide by zero encountered in true_divide\n",
      "  slope = (y_hi - y_lo) / (x_hi - x_lo)[:, None]\n",
      "/home/dvdmrn/.local/lib/python3.8/site-packages/scipy/interpolate/interpolate.py:633: RuntimeWarning: invalid value encountered in multiply\n",
      "  y_new = slope*(x_new - x_lo)[:, None] + y_lo\n"
     ]
    },
    {
     "name": "stdout",
     "output_type": "stream",
     "text": [
      "concatenating pid: 9,trial: 9...\n",
      "accessing pid: 9; trial: 10; slideshow: B; viz A; session 3\n",
      " (80.62024641036987s)\n"
     ]
    },
    {
     "name": "stderr",
     "output_type": "stream",
     "text": [
      "/home/dvdmrn/.local/lib/python3.8/site-packages/scipy/interpolate/interpolate.py:630: RuntimeWarning: divide by zero encountered in true_divide\n",
      "  slope = (y_hi - y_lo) / (x_hi - x_lo)[:, None]\n",
      "/home/dvdmrn/.local/lib/python3.8/site-packages/scipy/interpolate/interpolate.py:633: RuntimeWarning: invalid value encountered in multiply\n",
      "  y_new = slope*(x_new - x_lo)[:, None] + y_lo\n"
     ]
    },
    {
     "name": "stdout",
     "output_type": "stream",
     "text": [
      "concatenating pid: 9,trial: 10...\n",
      "accessing pid: 9; trial: 11; slideshow: B; viz B; session 3\n",
      " (81.31405830383301s)\n"
     ]
    },
    {
     "name": "stderr",
     "output_type": "stream",
     "text": [
      "/home/dvdmrn/.local/lib/python3.8/site-packages/scipy/interpolate/interpolate.py:630: RuntimeWarning: divide by zero encountered in true_divide\n",
      "  slope = (y_hi - y_lo) / (x_hi - x_lo)[:, None]\n",
      "/home/dvdmrn/.local/lib/python3.8/site-packages/scipy/interpolate/interpolate.py:633: RuntimeWarning: invalid value encountered in multiply\n",
      "  y_new = slope*(x_new - x_lo)[:, None] + y_lo\n"
     ]
    },
    {
     "name": "stdout",
     "output_type": "stream",
     "text": [
      "concatenating pid: 9,trial: 11...\n",
      "accessing pid: 9; trial: 12; slideshow: A; viz A; session 3\n",
      " (81.98316836357117s)\n"
     ]
    },
    {
     "name": "stderr",
     "output_type": "stream",
     "text": [
      "/home/dvdmrn/.local/lib/python3.8/site-packages/scipy/interpolate/interpolate.py:630: RuntimeWarning: divide by zero encountered in true_divide\n",
      "  slope = (y_hi - y_lo) / (x_hi - x_lo)[:, None]\n",
      "/home/dvdmrn/.local/lib/python3.8/site-packages/scipy/interpolate/interpolate.py:633: RuntimeWarning: invalid value encountered in multiply\n",
      "  y_new = slope*(x_new - x_lo)[:, None] + y_lo\n"
     ]
    },
    {
     "name": "stdout",
     "output_type": "stream",
     "text": [
      "concatenating pid: 9,trial: 12...\n",
      "writing to: processed_data/9_interp_data.csv\n",
      "Empty DataFrame\n",
      "Columns: [pid, arousal, valence, timeS, slideshow, viz, session, trial]\n",
      "Index: []\n",
      "accessing pid: 11; trial: 1; slideshow: B; viz B; session 3\n",
      " (87.68319749832153s)\n"
     ]
    },
    {
     "name": "stderr",
     "output_type": "stream",
     "text": [
      "/home/dvdmrn/.local/lib/python3.8/site-packages/scipy/interpolate/interpolate.py:630: RuntimeWarning: divide by zero encountered in true_divide\n",
      "  slope = (y_hi - y_lo) / (x_hi - x_lo)[:, None]\n",
      "/home/dvdmrn/.local/lib/python3.8/site-packages/scipy/interpolate/interpolate.py:633: RuntimeWarning: invalid value encountered in multiply\n",
      "  y_new = slope*(x_new - x_lo)[:, None] + y_lo\n"
     ]
    },
    {
     "name": "stdout",
     "output_type": "stream",
     "text": [
      "concatenating pid: 11,trial: 1...\n",
      "accessing pid: 11; trial: 2; slideshow: B; viz 0; session 3\n",
      " (88.3348560333252s)\n"
     ]
    },
    {
     "name": "stderr",
     "output_type": "stream",
     "text": [
      "/home/dvdmrn/.local/lib/python3.8/site-packages/scipy/interpolate/interpolate.py:630: RuntimeWarning: divide by zero encountered in true_divide\n",
      "  slope = (y_hi - y_lo) / (x_hi - x_lo)[:, None]\n",
      "/home/dvdmrn/.local/lib/python3.8/site-packages/scipy/interpolate/interpolate.py:633: RuntimeWarning: invalid value encountered in multiply\n",
      "  y_new = slope*(x_new - x_lo)[:, None] + y_lo\n"
     ]
    },
    {
     "name": "stdout",
     "output_type": "stream",
     "text": [
      "concatenating pid: 11,trial: 2...\n",
      "accessing pid: 11; trial: 3; slideshow: A; viz A; session 3\n",
      " (89.01206946372986s)\n"
     ]
    },
    {
     "name": "stderr",
     "output_type": "stream",
     "text": [
      "/home/dvdmrn/.local/lib/python3.8/site-packages/scipy/interpolate/interpolate.py:630: RuntimeWarning: divide by zero encountered in true_divide\n",
      "  slope = (y_hi - y_lo) / (x_hi - x_lo)[:, None]\n",
      "/home/dvdmrn/.local/lib/python3.8/site-packages/scipy/interpolate/interpolate.py:633: RuntimeWarning: invalid value encountered in multiply\n",
      "  y_new = slope*(x_new - x_lo)[:, None] + y_lo\n"
     ]
    },
    {
     "name": "stdout",
     "output_type": "stream",
     "text": [
      "concatenating pid: 11,trial: 3...\n",
      "accessing pid: 11; trial: 4; slideshow: A; viz B; session 3\n",
      " (89.4872043132782s)\n"
     ]
    },
    {
     "name": "stderr",
     "output_type": "stream",
     "text": [
      "/home/dvdmrn/.local/lib/python3.8/site-packages/scipy/interpolate/interpolate.py:630: RuntimeWarning: divide by zero encountered in true_divide\n",
      "  slope = (y_hi - y_lo) / (x_hi - x_lo)[:, None]\n",
      "/home/dvdmrn/.local/lib/python3.8/site-packages/scipy/interpolate/interpolate.py:633: RuntimeWarning: invalid value encountered in multiply\n",
      "  y_new = slope*(x_new - x_lo)[:, None] + y_lo\n"
     ]
    },
    {
     "name": "stdout",
     "output_type": "stream",
     "text": [
      "concatenating pid: 11,trial: 4...\n",
      "accessing pid: 11; trial: 5; slideshow: B; viz 0; session 3\n",
      " (89.97338056564331s)\n"
     ]
    },
    {
     "name": "stderr",
     "output_type": "stream",
     "text": [
      "/home/dvdmrn/.local/lib/python3.8/site-packages/scipy/interpolate/interpolate.py:630: RuntimeWarning: divide by zero encountered in true_divide\n",
      "  slope = (y_hi - y_lo) / (x_hi - x_lo)[:, None]\n",
      "/home/dvdmrn/.local/lib/python3.8/site-packages/scipy/interpolate/interpolate.py:633: RuntimeWarning: invalid value encountered in multiply\n",
      "  y_new = slope*(x_new - x_lo)[:, None] + y_lo\n"
     ]
    },
    {
     "name": "stdout",
     "output_type": "stream",
     "text": [
      "concatenating pid: 11,trial: 5...\n",
      "accessing pid: 11; trial: 6; slideshow: B; viz B; session 3\n",
      " (90.63177871704102s)\n"
     ]
    },
    {
     "name": "stderr",
     "output_type": "stream",
     "text": [
      "/home/dvdmrn/.local/lib/python3.8/site-packages/scipy/interpolate/interpolate.py:630: RuntimeWarning: divide by zero encountered in true_divide\n",
      "  slope = (y_hi - y_lo) / (x_hi - x_lo)[:, None]\n",
      "/home/dvdmrn/.local/lib/python3.8/site-packages/scipy/interpolate/interpolate.py:633: RuntimeWarning: invalid value encountered in multiply\n",
      "  y_new = slope*(x_new - x_lo)[:, None] + y_lo\n"
     ]
    },
    {
     "name": "stdout",
     "output_type": "stream",
     "text": [
      "concatenating pid: 11,trial: 6...\n",
      "accessing pid: 11; trial: 7; slideshow: A; viz 0; session 3\n",
      " (91.29737758636475s)\n"
     ]
    },
    {
     "name": "stderr",
     "output_type": "stream",
     "text": [
      "/home/dvdmrn/.local/lib/python3.8/site-packages/scipy/interpolate/interpolate.py:630: RuntimeWarning: divide by zero encountered in true_divide\n",
      "  slope = (y_hi - y_lo) / (x_hi - x_lo)[:, None]\n",
      "/home/dvdmrn/.local/lib/python3.8/site-packages/scipy/interpolate/interpolate.py:633: RuntimeWarning: invalid value encountered in multiply\n",
      "  y_new = slope*(x_new - x_lo)[:, None] + y_lo\n"
     ]
    },
    {
     "name": "stdout",
     "output_type": "stream",
     "text": [
      "concatenating pid: 11,trial: 7...\n",
      "accessing pid: 11; trial: 8; slideshow: A; viz A; session 3\n",
      " (91.7836799621582s)\n"
     ]
    },
    {
     "name": "stderr",
     "output_type": "stream",
     "text": [
      "/home/dvdmrn/.local/lib/python3.8/site-packages/scipy/interpolate/interpolate.py:630: RuntimeWarning: divide by zero encountered in true_divide\n",
      "  slope = (y_hi - y_lo) / (x_hi - x_lo)[:, None]\n",
      "/home/dvdmrn/.local/lib/python3.8/site-packages/scipy/interpolate/interpolate.py:633: RuntimeWarning: invalid value encountered in multiply\n",
      "  y_new = slope*(x_new - x_lo)[:, None] + y_lo\n"
     ]
    },
    {
     "name": "stdout",
     "output_type": "stream",
     "text": [
      "concatenating pid: 11,trial: 8...\n",
      "accessing pid: 11; trial: 9; slideshow: B; viz A; session 3\n",
      " (92.28322625160217s)\n"
     ]
    },
    {
     "name": "stderr",
     "output_type": "stream",
     "text": [
      "/home/dvdmrn/.local/lib/python3.8/site-packages/scipy/interpolate/interpolate.py:630: RuntimeWarning: divide by zero encountered in true_divide\n",
      "  slope = (y_hi - y_lo) / (x_hi - x_lo)[:, None]\n",
      "/home/dvdmrn/.local/lib/python3.8/site-packages/scipy/interpolate/interpolate.py:633: RuntimeWarning: invalid value encountered in multiply\n",
      "  y_new = slope*(x_new - x_lo)[:, None] + y_lo\n"
     ]
    },
    {
     "name": "stdout",
     "output_type": "stream",
     "text": [
      "concatenating pid: 11,trial: 9...\n",
      "accessing pid: 11; trial: 10; slideshow: B; viz A; session 3\n",
      " (92.91076278686523s)\n"
     ]
    },
    {
     "name": "stderr",
     "output_type": "stream",
     "text": [
      "/home/dvdmrn/.local/lib/python3.8/site-packages/scipy/interpolate/interpolate.py:630: RuntimeWarning: divide by zero encountered in true_divide\n",
      "  slope = (y_hi - y_lo) / (x_hi - x_lo)[:, None]\n",
      "/home/dvdmrn/.local/lib/python3.8/site-packages/scipy/interpolate/interpolate.py:633: RuntimeWarning: invalid value encountered in multiply\n",
      "  y_new = slope*(x_new - x_lo)[:, None] + y_lo\n"
     ]
    },
    {
     "name": "stdout",
     "output_type": "stream",
     "text": [
      "concatenating pid: 11,trial: 10...\n",
      "accessing pid: 11; trial: 11; slideshow: A; viz B; session 3\n",
      " (93.58351826667786s)\n"
     ]
    },
    {
     "name": "stderr",
     "output_type": "stream",
     "text": [
      "/home/dvdmrn/.local/lib/python3.8/site-packages/scipy/interpolate/interpolate.py:630: RuntimeWarning: divide by zero encountered in true_divide\n",
      "  slope = (y_hi - y_lo) / (x_hi - x_lo)[:, None]\n",
      "/home/dvdmrn/.local/lib/python3.8/site-packages/scipy/interpolate/interpolate.py:633: RuntimeWarning: invalid value encountered in multiply\n",
      "  y_new = slope*(x_new - x_lo)[:, None] + y_lo\n"
     ]
    },
    {
     "name": "stdout",
     "output_type": "stream",
     "text": [
      "concatenating pid: 11,trial: 11...\n",
      "accessing pid: 11; trial: 12; slideshow: A; viz 0; session 3\n",
      " (94.08453798294067s)\n"
     ]
    },
    {
     "name": "stderr",
     "output_type": "stream",
     "text": [
      "/home/dvdmrn/.local/lib/python3.8/site-packages/scipy/interpolate/interpolate.py:630: RuntimeWarning: divide by zero encountered in true_divide\n",
      "  slope = (y_hi - y_lo) / (x_hi - x_lo)[:, None]\n",
      "/home/dvdmrn/.local/lib/python3.8/site-packages/scipy/interpolate/interpolate.py:633: RuntimeWarning: invalid value encountered in multiply\n",
      "  y_new = slope*(x_new - x_lo)[:, None] + y_lo\n"
     ]
    },
    {
     "name": "stdout",
     "output_type": "stream",
     "text": [
      "concatenating pid: 11,trial: 12...\n",
      "writing to: processed_data/11_interp_data.csv\n",
      "Empty DataFrame\n",
      "Columns: [pid, arousal, valence, timeS, slideshow, viz, session, trial]\n",
      "Index: []\n",
      "accessing pid: 12; trial: 1; slideshow: A; viz B; session 4\n",
      " (99.78283047676086s)\n"
     ]
    },
    {
     "name": "stderr",
     "output_type": "stream",
     "text": [
      "/home/dvdmrn/.local/lib/python3.8/site-packages/scipy/interpolate/interpolate.py:630: RuntimeWarning: divide by zero encountered in true_divide\n",
      "  slope = (y_hi - y_lo) / (x_hi - x_lo)[:, None]\n",
      "/home/dvdmrn/.local/lib/python3.8/site-packages/scipy/interpolate/interpolate.py:633: RuntimeWarning: invalid value encountered in multiply\n",
      "  y_new = slope*(x_new - x_lo)[:, None] + y_lo\n"
     ]
    },
    {
     "name": "stdout",
     "output_type": "stream",
     "text": [
      "concatenating pid: 12,trial: 1...\n",
      "accessing pid: 12; trial: 2; slideshow: B; viz B; session 4\n",
      " (100.45989060401917s)\n"
     ]
    },
    {
     "name": "stderr",
     "output_type": "stream",
     "text": [
      "/home/dvdmrn/.local/lib/python3.8/site-packages/scipy/interpolate/interpolate.py:630: RuntimeWarning: divide by zero encountered in true_divide\n",
      "  slope = (y_hi - y_lo) / (x_hi - x_lo)[:, None]\n",
      "/home/dvdmrn/.local/lib/python3.8/site-packages/scipy/interpolate/interpolate.py:633: RuntimeWarning: invalid value encountered in multiply\n",
      "  y_new = slope*(x_new - x_lo)[:, None] + y_lo\n"
     ]
    },
    {
     "name": "stdout",
     "output_type": "stream",
     "text": [
      "concatenating pid: 12,trial: 2...\n",
      "accessing pid: 12; trial: 3; slideshow: B; viz 0; session 4\n",
      " (100.82537007331848s)\n"
     ]
    },
    {
     "name": "stderr",
     "output_type": "stream",
     "text": [
      "/home/dvdmrn/.local/lib/python3.8/site-packages/scipy/interpolate/interpolate.py:630: RuntimeWarning: divide by zero encountered in true_divide\n",
      "  slope = (y_hi - y_lo) / (x_hi - x_lo)[:, None]\n",
      "/home/dvdmrn/.local/lib/python3.8/site-packages/scipy/interpolate/interpolate.py:633: RuntimeWarning: invalid value encountered in multiply\n",
      "  y_new = slope*(x_new - x_lo)[:, None] + y_lo\n"
     ]
    },
    {
     "name": "stdout",
     "output_type": "stream",
     "text": [
      "concatenating pid: 12,trial: 3...\n",
      "accessing pid: 12; trial: 4; slideshow: B; viz A; session 4\n",
      " (101.24678421020508s)\n"
     ]
    },
    {
     "name": "stderr",
     "output_type": "stream",
     "text": [
      "/home/dvdmrn/.local/lib/python3.8/site-packages/scipy/interpolate/interpolate.py:630: RuntimeWarning: divide by zero encountered in true_divide\n",
      "  slope = (y_hi - y_lo) / (x_hi - x_lo)[:, None]\n",
      "/home/dvdmrn/.local/lib/python3.8/site-packages/scipy/interpolate/interpolate.py:633: RuntimeWarning: invalid value encountered in multiply\n",
      "  y_new = slope*(x_new - x_lo)[:, None] + y_lo\n"
     ]
    },
    {
     "name": "stdout",
     "output_type": "stream",
     "text": [
      "concatenating pid: 12,trial: 4...\n",
      "accessing pid: 12; trial: 5; slideshow: A; viz A; session 4\n",
      " (101.61274862289429s)\n"
     ]
    },
    {
     "name": "stderr",
     "output_type": "stream",
     "text": [
      "/home/dvdmrn/.local/lib/python3.8/site-packages/scipy/interpolate/interpolate.py:630: RuntimeWarning: divide by zero encountered in true_divide\n",
      "  slope = (y_hi - y_lo) / (x_hi - x_lo)[:, None]\n",
      "/home/dvdmrn/.local/lib/python3.8/site-packages/scipy/interpolate/interpolate.py:633: RuntimeWarning: invalid value encountered in multiply\n",
      "  y_new = slope*(x_new - x_lo)[:, None] + y_lo\n"
     ]
    },
    {
     "name": "stdout",
     "output_type": "stream",
     "text": [
      "concatenating pid: 12,trial: 5...\n",
      "accessing pid: 12; trial: 6; slideshow: B; viz 0; session 4\n",
      " (102.29020237922668s)\n"
     ]
    },
    {
     "name": "stderr",
     "output_type": "stream",
     "text": [
      "/home/dvdmrn/.local/lib/python3.8/site-packages/scipy/interpolate/interpolate.py:630: RuntimeWarning: divide by zero encountered in true_divide\n",
      "  slope = (y_hi - y_lo) / (x_hi - x_lo)[:, None]\n",
      "/home/dvdmrn/.local/lib/python3.8/site-packages/scipy/interpolate/interpolate.py:633: RuntimeWarning: invalid value encountered in multiply\n",
      "  y_new = slope*(x_new - x_lo)[:, None] + y_lo\n"
     ]
    },
    {
     "name": "stdout",
     "output_type": "stream",
     "text": [
      "concatenating pid: 12,trial: 6...\n",
      "accessing pid: 12; trial: 7; slideshow: A; viz 0; session 4\n",
      " (102.65857100486755s)\n"
     ]
    },
    {
     "name": "stderr",
     "output_type": "stream",
     "text": [
      "/home/dvdmrn/.local/lib/python3.8/site-packages/scipy/interpolate/interpolate.py:630: RuntimeWarning: divide by zero encountered in true_divide\n",
      "  slope = (y_hi - y_lo) / (x_hi - x_lo)[:, None]\n",
      "/home/dvdmrn/.local/lib/python3.8/site-packages/scipy/interpolate/interpolate.py:633: RuntimeWarning: invalid value encountered in multiply\n",
      "  y_new = slope*(x_new - x_lo)[:, None] + y_lo\n"
     ]
    },
    {
     "name": "stdout",
     "output_type": "stream",
     "text": [
      "concatenating pid: 12,trial: 7...\n",
      "accessing pid: 12; trial: 8; slideshow: A; viz 0; session 4\n",
      " (103.35493278503418s)\n"
     ]
    },
    {
     "name": "stderr",
     "output_type": "stream",
     "text": [
      "/home/dvdmrn/.local/lib/python3.8/site-packages/scipy/interpolate/interpolate.py:630: RuntimeWarning: divide by zero encountered in true_divide\n",
      "  slope = (y_hi - y_lo) / (x_hi - x_lo)[:, None]\n",
      "/home/dvdmrn/.local/lib/python3.8/site-packages/scipy/interpolate/interpolate.py:633: RuntimeWarning: invalid value encountered in multiply\n",
      "  y_new = slope*(x_new - x_lo)[:, None] + y_lo\n"
     ]
    },
    {
     "name": "stdout",
     "output_type": "stream",
     "text": [
      "concatenating pid: 12,trial: 8...\n",
      "accessing pid: 12; trial: 9; slideshow: B; viz B; session 4\n",
      " (104.02164459228516s)\n"
     ]
    },
    {
     "name": "stderr",
     "output_type": "stream",
     "text": [
      "/home/dvdmrn/.local/lib/python3.8/site-packages/scipy/interpolate/interpolate.py:630: RuntimeWarning: divide by zero encountered in true_divide\n",
      "  slope = (y_hi - y_lo) / (x_hi - x_lo)[:, None]\n",
      "/home/dvdmrn/.local/lib/python3.8/site-packages/scipy/interpolate/interpolate.py:633: RuntimeWarning: invalid value encountered in multiply\n",
      "  y_new = slope*(x_new - x_lo)[:, None] + y_lo\n"
     ]
    },
    {
     "name": "stdout",
     "output_type": "stream",
     "text": [
      "concatenating pid: 12,trial: 9...\n",
      "accessing pid: 12; trial: 10; slideshow: A; viz A; session 4\n",
      " (104.39559841156006s)\n"
     ]
    },
    {
     "name": "stderr",
     "output_type": "stream",
     "text": [
      "/home/dvdmrn/.local/lib/python3.8/site-packages/scipy/interpolate/interpolate.py:630: RuntimeWarning: divide by zero encountered in true_divide\n",
      "  slope = (y_hi - y_lo) / (x_hi - x_lo)[:, None]\n",
      "/home/dvdmrn/.local/lib/python3.8/site-packages/scipy/interpolate/interpolate.py:633: RuntimeWarning: invalid value encountered in multiply\n",
      "  y_new = slope*(x_new - x_lo)[:, None] + y_lo\n"
     ]
    },
    {
     "name": "stdout",
     "output_type": "stream",
     "text": [
      "concatenating pid: 12,trial: 10...\n",
      "accessing pid: 12; trial: 11; slideshow: B; viz A; session 4\n",
      " (105.05596566200256s)\n"
     ]
    },
    {
     "name": "stderr",
     "output_type": "stream",
     "text": [
      "/home/dvdmrn/.local/lib/python3.8/site-packages/scipy/interpolate/interpolate.py:630: RuntimeWarning: divide by zero encountered in true_divide\n",
      "  slope = (y_hi - y_lo) / (x_hi - x_lo)[:, None]\n",
      "/home/dvdmrn/.local/lib/python3.8/site-packages/scipy/interpolate/interpolate.py:633: RuntimeWarning: invalid value encountered in multiply\n",
      "  y_new = slope*(x_new - x_lo)[:, None] + y_lo\n"
     ]
    },
    {
     "name": "stdout",
     "output_type": "stream",
     "text": [
      "concatenating pid: 12,trial: 11...\n",
      "accessing pid: 12; trial: 12; slideshow: A; viz B; session 4\n",
      " (105.43514585494995s)\n"
     ]
    },
    {
     "name": "stderr",
     "output_type": "stream",
     "text": [
      "/home/dvdmrn/.local/lib/python3.8/site-packages/scipy/interpolate/interpolate.py:630: RuntimeWarning: divide by zero encountered in true_divide\n",
      "  slope = (y_hi - y_lo) / (x_hi - x_lo)[:, None]\n",
      "/home/dvdmrn/.local/lib/python3.8/site-packages/scipy/interpolate/interpolate.py:633: RuntimeWarning: invalid value encountered in multiply\n",
      "  y_new = slope*(x_new - x_lo)[:, None] + y_lo\n"
     ]
    },
    {
     "name": "stdout",
     "output_type": "stream",
     "text": [
      "concatenating pid: 12,trial: 12...\n",
      "writing to: processed_data/12_interp_data.csv\n",
      "Empty DataFrame\n",
      "Columns: [pid, arousal, valence, timeS, slideshow, viz, session, trial]\n",
      "Index: []\n",
      "accessing pid: 13; trial: 1; slideshow: B; viz B; session 3\n",
      " (110.87528395652771s)\n"
     ]
    },
    {
     "name": "stderr",
     "output_type": "stream",
     "text": [
      "/home/dvdmrn/.local/lib/python3.8/site-packages/scipy/interpolate/interpolate.py:630: RuntimeWarning: divide by zero encountered in true_divide\n",
      "  slope = (y_hi - y_lo) / (x_hi - x_lo)[:, None]\n",
      "/home/dvdmrn/.local/lib/python3.8/site-packages/scipy/interpolate/interpolate.py:633: RuntimeWarning: invalid value encountered in multiply\n",
      "  y_new = slope*(x_new - x_lo)[:, None] + y_lo\n"
     ]
    },
    {
     "name": "stdout",
     "output_type": "stream",
     "text": [
      "concatenating pid: 13,trial: 1...\n",
      "accessing pid: 13; trial: 2; slideshow: B; viz A; session 3\n",
      " (111.54475951194763s)\n"
     ]
    },
    {
     "name": "stderr",
     "output_type": "stream",
     "text": [
      "/home/dvdmrn/.local/lib/python3.8/site-packages/scipy/interpolate/interpolate.py:630: RuntimeWarning: divide by zero encountered in true_divide\n",
      "  slope = (y_hi - y_lo) / (x_hi - x_lo)[:, None]\n",
      "/home/dvdmrn/.local/lib/python3.8/site-packages/scipy/interpolate/interpolate.py:633: RuntimeWarning: invalid value encountered in multiply\n",
      "  y_new = slope*(x_new - x_lo)[:, None] + y_lo\n"
     ]
    },
    {
     "name": "stdout",
     "output_type": "stream",
     "text": [
      "concatenating pid: 13,trial: 2...\n",
      "accessing pid: 13; trial: 3; slideshow: B; viz B; session 3\n",
      " (112.20332789421082s)\n"
     ]
    },
    {
     "name": "stderr",
     "output_type": "stream",
     "text": [
      "/home/dvdmrn/.local/lib/python3.8/site-packages/scipy/interpolate/interpolate.py:630: RuntimeWarning: divide by zero encountered in true_divide\n",
      "  slope = (y_hi - y_lo) / (x_hi - x_lo)[:, None]\n",
      "/home/dvdmrn/.local/lib/python3.8/site-packages/scipy/interpolate/interpolate.py:633: RuntimeWarning: invalid value encountered in multiply\n",
      "  y_new = slope*(x_new - x_lo)[:, None] + y_lo\n"
     ]
    },
    {
     "name": "stdout",
     "output_type": "stream",
     "text": [
      "concatenating pid: 13,trial: 3...\n",
      "accessing pid: 13; trial: 4; slideshow: A; viz 0; session 3\n",
      " (112.8385808467865s)\n"
     ]
    },
    {
     "name": "stderr",
     "output_type": "stream",
     "text": [
      "/home/dvdmrn/.local/lib/python3.8/site-packages/scipy/interpolate/interpolate.py:630: RuntimeWarning: divide by zero encountered in true_divide\n",
      "  slope = (y_hi - y_lo) / (x_hi - x_lo)[:, None]\n",
      "/home/dvdmrn/.local/lib/python3.8/site-packages/scipy/interpolate/interpolate.py:633: RuntimeWarning: invalid value encountered in multiply\n",
      "  y_new = slope*(x_new - x_lo)[:, None] + y_lo\n"
     ]
    },
    {
     "name": "stdout",
     "output_type": "stream",
     "text": [
      "concatenating pid: 13,trial: 4...\n",
      "accessing pid: 13; trial: 5; slideshow: A; viz B; session 3\n",
      " (113.34944725036621s)\n"
     ]
    },
    {
     "name": "stderr",
     "output_type": "stream",
     "text": [
      "/home/dvdmrn/.local/lib/python3.8/site-packages/scipy/interpolate/interpolate.py:630: RuntimeWarning: divide by zero encountered in true_divide\n",
      "  slope = (y_hi - y_lo) / (x_hi - x_lo)[:, None]\n",
      "/home/dvdmrn/.local/lib/python3.8/site-packages/scipy/interpolate/interpolate.py:633: RuntimeWarning: invalid value encountered in multiply\n",
      "  y_new = slope*(x_new - x_lo)[:, None] + y_lo\n"
     ]
    },
    {
     "name": "stdout",
     "output_type": "stream",
     "text": [
      "concatenating pid: 13,trial: 5...\n",
      "accessing pid: 13; trial: 6; slideshow: A; viz B; session 3\n",
      " (113.86298894882202s)\n"
     ]
    },
    {
     "name": "stderr",
     "output_type": "stream",
     "text": [
      "/home/dvdmrn/.local/lib/python3.8/site-packages/scipy/interpolate/interpolate.py:630: RuntimeWarning: divide by zero encountered in true_divide\n",
      "  slope = (y_hi - y_lo) / (x_hi - x_lo)[:, None]\n",
      "/home/dvdmrn/.local/lib/python3.8/site-packages/scipy/interpolate/interpolate.py:633: RuntimeWarning: invalid value encountered in multiply\n",
      "  y_new = slope*(x_new - x_lo)[:, None] + y_lo\n"
     ]
    },
    {
     "name": "stdout",
     "output_type": "stream",
     "text": [
      "concatenating pid: 13,trial: 6...\n",
      "accessing pid: 13; trial: 7; slideshow: A; viz 0; session 3\n",
      " (114.36949253082275s)\n"
     ]
    },
    {
     "name": "stderr",
     "output_type": "stream",
     "text": [
      "/home/dvdmrn/.local/lib/python3.8/site-packages/scipy/interpolate/interpolate.py:630: RuntimeWarning: divide by zero encountered in true_divide\n",
      "  slope = (y_hi - y_lo) / (x_hi - x_lo)[:, None]\n",
      "/home/dvdmrn/.local/lib/python3.8/site-packages/scipy/interpolate/interpolate.py:633: RuntimeWarning: invalid value encountered in multiply\n",
      "  y_new = slope*(x_new - x_lo)[:, None] + y_lo\n"
     ]
    },
    {
     "name": "stdout",
     "output_type": "stream",
     "text": [
      "concatenating pid: 13,trial: 7...\n",
      "accessing pid: 13; trial: 8; slideshow: B; viz 0; session 3\n",
      " (114.86135149002075s)\n"
     ]
    },
    {
     "name": "stderr",
     "output_type": "stream",
     "text": [
      "/home/dvdmrn/.local/lib/python3.8/site-packages/scipy/interpolate/interpolate.py:630: RuntimeWarning: divide by zero encountered in true_divide\n",
      "  slope = (y_hi - y_lo) / (x_hi - x_lo)[:, None]\n",
      "/home/dvdmrn/.local/lib/python3.8/site-packages/scipy/interpolate/interpolate.py:633: RuntimeWarning: invalid value encountered in multiply\n",
      "  y_new = slope*(x_new - x_lo)[:, None] + y_lo\n"
     ]
    },
    {
     "name": "stdout",
     "output_type": "stream",
     "text": [
      "concatenating pid: 13,trial: 8...\n",
      "accessing pid: 13; trial: 9; slideshow: A; viz A; session 3\n",
      " (115.52565503120422s)\n"
     ]
    },
    {
     "name": "stderr",
     "output_type": "stream",
     "text": [
      "/home/dvdmrn/.local/lib/python3.8/site-packages/scipy/interpolate/interpolate.py:630: RuntimeWarning: divide by zero encountered in true_divide\n",
      "  slope = (y_hi - y_lo) / (x_hi - x_lo)[:, None]\n",
      "/home/dvdmrn/.local/lib/python3.8/site-packages/scipy/interpolate/interpolate.py:633: RuntimeWarning: invalid value encountered in multiply\n",
      "  y_new = slope*(x_new - x_lo)[:, None] + y_lo\n"
     ]
    },
    {
     "name": "stdout",
     "output_type": "stream",
     "text": [
      "concatenating pid: 13,trial: 9...\n",
      "accessing pid: 13; trial: 10; slideshow: B; viz 0; session 3\n",
      " (116.02176523208618s)\n"
     ]
    },
    {
     "name": "stderr",
     "output_type": "stream",
     "text": [
      "/home/dvdmrn/.local/lib/python3.8/site-packages/scipy/interpolate/interpolate.py:630: RuntimeWarning: divide by zero encountered in true_divide\n",
      "  slope = (y_hi - y_lo) / (x_hi - x_lo)[:, None]\n",
      "/home/dvdmrn/.local/lib/python3.8/site-packages/scipy/interpolate/interpolate.py:633: RuntimeWarning: invalid value encountered in multiply\n",
      "  y_new = slope*(x_new - x_lo)[:, None] + y_lo\n"
     ]
    },
    {
     "name": "stdout",
     "output_type": "stream",
     "text": [
      "concatenating pid: 13,trial: 10...\n",
      "accessing pid: 13; trial: 11; slideshow: A; viz A; session 3\n",
      " (116.69721341133118s)\n"
     ]
    },
    {
     "name": "stderr",
     "output_type": "stream",
     "text": [
      "/home/dvdmrn/.local/lib/python3.8/site-packages/scipy/interpolate/interpolate.py:630: RuntimeWarning: divide by zero encountered in true_divide\n",
      "  slope = (y_hi - y_lo) / (x_hi - x_lo)[:, None]\n",
      "/home/dvdmrn/.local/lib/python3.8/site-packages/scipy/interpolate/interpolate.py:633: RuntimeWarning: invalid value encountered in multiply\n",
      "  y_new = slope*(x_new - x_lo)[:, None] + y_lo\n"
     ]
    },
    {
     "name": "stdout",
     "output_type": "stream",
     "text": [
      "concatenating pid: 13,trial: 11...\n",
      "accessing pid: 13; trial: 12; slideshow: B; viz A; session 3\n",
      " (117.18723702430725s)\n"
     ]
    },
    {
     "name": "stderr",
     "output_type": "stream",
     "text": [
      "/home/dvdmrn/.local/lib/python3.8/site-packages/scipy/interpolate/interpolate.py:630: RuntimeWarning: divide by zero encountered in true_divide\n",
      "  slope = (y_hi - y_lo) / (x_hi - x_lo)[:, None]\n",
      "/home/dvdmrn/.local/lib/python3.8/site-packages/scipy/interpolate/interpolate.py:633: RuntimeWarning: invalid value encountered in multiply\n",
      "  y_new = slope*(x_new - x_lo)[:, None] + y_lo\n"
     ]
    },
    {
     "name": "stdout",
     "output_type": "stream",
     "text": [
      "concatenating pid: 13,trial: 12...\n",
      "writing to: processed_data/13_interp_data.csv\n",
      "Empty DataFrame\n",
      "Columns: [pid, arousal, valence, timeS, slideshow, viz, session, trial]\n",
      "Index: []\n",
      "accessing pid: 16; trial: 1; slideshow: A; viz 0; session 4\n",
      " (123.03135061264038s)\n"
     ]
    },
    {
     "name": "stderr",
     "output_type": "stream",
     "text": [
      "/home/dvdmrn/.local/lib/python3.8/site-packages/scipy/interpolate/interpolate.py:630: RuntimeWarning: divide by zero encountered in true_divide\n",
      "  slope = (y_hi - y_lo) / (x_hi - x_lo)[:, None]\n",
      "/home/dvdmrn/.local/lib/python3.8/site-packages/scipy/interpolate/interpolate.py:633: RuntimeWarning: invalid value encountered in multiply\n",
      "  y_new = slope*(x_new - x_lo)[:, None] + y_lo\n"
     ]
    },
    {
     "name": "stdout",
     "output_type": "stream",
     "text": [
      "concatenating pid: 16,trial: 1...\n",
      "accessing pid: 16; trial: 2; slideshow: A; viz A; session 4\n",
      " (123.70376801490784s)\n"
     ]
    },
    {
     "name": "stderr",
     "output_type": "stream",
     "text": [
      "/home/dvdmrn/.local/lib/python3.8/site-packages/scipy/interpolate/interpolate.py:630: RuntimeWarning: divide by zero encountered in true_divide\n",
      "  slope = (y_hi - y_lo) / (x_hi - x_lo)[:, None]\n",
      "/home/dvdmrn/.local/lib/python3.8/site-packages/scipy/interpolate/interpolate.py:633: RuntimeWarning: invalid value encountered in multiply\n",
      "  y_new = slope*(x_new - x_lo)[:, None] + y_lo\n"
     ]
    },
    {
     "name": "stdout",
     "output_type": "stream",
     "text": [
      "concatenating pid: 16,trial: 2...\n",
      "accessing pid: 16; trial: 3; slideshow: A; viz B; session 4\n",
      " (124.39760518074036s)\n"
     ]
    },
    {
     "name": "stderr",
     "output_type": "stream",
     "text": [
      "/home/dvdmrn/.local/lib/python3.8/site-packages/scipy/interpolate/interpolate.py:630: RuntimeWarning: divide by zero encountered in true_divide\n",
      "  slope = (y_hi - y_lo) / (x_hi - x_lo)[:, None]\n",
      "/home/dvdmrn/.local/lib/python3.8/site-packages/scipy/interpolate/interpolate.py:633: RuntimeWarning: invalid value encountered in multiply\n",
      "  y_new = slope*(x_new - x_lo)[:, None] + y_lo\n"
     ]
    },
    {
     "name": "stdout",
     "output_type": "stream",
     "text": [
      "concatenating pid: 16,trial: 3...\n",
      "accessing pid: 16; trial: 4; slideshow: B; viz B; session 4\n",
      " (125.0834128856659s)\n"
     ]
    },
    {
     "name": "stderr",
     "output_type": "stream",
     "text": [
      "/home/dvdmrn/.local/lib/python3.8/site-packages/scipy/interpolate/interpolate.py:630: RuntimeWarning: divide by zero encountered in true_divide\n",
      "  slope = (y_hi - y_lo) / (x_hi - x_lo)[:, None]\n",
      "/home/dvdmrn/.local/lib/python3.8/site-packages/scipy/interpolate/interpolate.py:633: RuntimeWarning: invalid value encountered in multiply\n",
      "  y_new = slope*(x_new - x_lo)[:, None] + y_lo\n"
     ]
    },
    {
     "name": "stdout",
     "output_type": "stream",
     "text": [
      "concatenating pid: 16,trial: 4...\n",
      "accessing pid: 16; trial: 5; slideshow: A; viz A; session 4\n",
      " (125.46066284179688s)\n"
     ]
    },
    {
     "name": "stderr",
     "output_type": "stream",
     "text": [
      "/home/dvdmrn/.local/lib/python3.8/site-packages/scipy/interpolate/interpolate.py:630: RuntimeWarning: divide by zero encountered in true_divide\n",
      "  slope = (y_hi - y_lo) / (x_hi - x_lo)[:, None]\n",
      "/home/dvdmrn/.local/lib/python3.8/site-packages/scipy/interpolate/interpolate.py:633: RuntimeWarning: invalid value encountered in multiply\n",
      "  y_new = slope*(x_new - x_lo)[:, None] + y_lo\n"
     ]
    },
    {
     "name": "stdout",
     "output_type": "stream",
     "text": [
      "concatenating pid: 16,trial: 5...\n",
      "accessing pid: 16; trial: 6; slideshow: B; viz B; session 4\n",
      " (126.113614320755s)\n"
     ]
    },
    {
     "name": "stderr",
     "output_type": "stream",
     "text": [
      "/home/dvdmrn/.local/lib/python3.8/site-packages/scipy/interpolate/interpolate.py:630: RuntimeWarning: divide by zero encountered in true_divide\n",
      "  slope = (y_hi - y_lo) / (x_hi - x_lo)[:, None]\n",
      "/home/dvdmrn/.local/lib/python3.8/site-packages/scipy/interpolate/interpolate.py:633: RuntimeWarning: invalid value encountered in multiply\n",
      "  y_new = slope*(x_new - x_lo)[:, None] + y_lo\n"
     ]
    },
    {
     "name": "stdout",
     "output_type": "stream",
     "text": [
      "concatenating pid: 16,trial: 6...\n",
      "accessing pid: 16; trial: 7; slideshow: B; viz 0; session 4\n",
      " (126.47603702545166s)\n"
     ]
    },
    {
     "name": "stderr",
     "output_type": "stream",
     "text": [
      "/home/dvdmrn/.local/lib/python3.8/site-packages/scipy/interpolate/interpolate.py:630: RuntimeWarning: divide by zero encountered in true_divide\n",
      "  slope = (y_hi - y_lo) / (x_hi - x_lo)[:, None]\n",
      "/home/dvdmrn/.local/lib/python3.8/site-packages/scipy/interpolate/interpolate.py:633: RuntimeWarning: invalid value encountered in multiply\n",
      "  y_new = slope*(x_new - x_lo)[:, None] + y_lo\n"
     ]
    },
    {
     "name": "stdout",
     "output_type": "stream",
     "text": [
      "concatenating pid: 16,trial: 7...\n",
      "accessing pid: 16; trial: 8; slideshow: A; viz B; session 4\n",
      " (126.8687493801117s)\n"
     ]
    },
    {
     "name": "stderr",
     "output_type": "stream",
     "text": [
      "/home/dvdmrn/.local/lib/python3.8/site-packages/scipy/interpolate/interpolate.py:630: RuntimeWarning: divide by zero encountered in true_divide\n",
      "  slope = (y_hi - y_lo) / (x_hi - x_lo)[:, None]\n",
      "/home/dvdmrn/.local/lib/python3.8/site-packages/scipy/interpolate/interpolate.py:633: RuntimeWarning: invalid value encountered in multiply\n",
      "  y_new = slope*(x_new - x_lo)[:, None] + y_lo\n"
     ]
    },
    {
     "name": "stdout",
     "output_type": "stream",
     "text": [
      "concatenating pid: 16,trial: 8...\n",
      "accessing pid: 16; trial: 9; slideshow: A; viz 0; session 4\n",
      " (127.57327222824097s)\n"
     ]
    },
    {
     "name": "stderr",
     "output_type": "stream",
     "text": [
      "/home/dvdmrn/.local/lib/python3.8/site-packages/scipy/interpolate/interpolate.py:630: RuntimeWarning: divide by zero encountered in true_divide\n",
      "  slope = (y_hi - y_lo) / (x_hi - x_lo)[:, None]\n",
      "/home/dvdmrn/.local/lib/python3.8/site-packages/scipy/interpolate/interpolate.py:633: RuntimeWarning: invalid value encountered in multiply\n",
      "  y_new = slope*(x_new - x_lo)[:, None] + y_lo\n"
     ]
    },
    {
     "name": "stdout",
     "output_type": "stream",
     "text": [
      "concatenating pid: 16,trial: 9...\n",
      "accessing pid: 16; trial: 10; slideshow: B; viz A; session 4\n",
      " (128.23612427711487s)\n"
     ]
    },
    {
     "name": "stderr",
     "output_type": "stream",
     "text": [
      "/home/dvdmrn/.local/lib/python3.8/site-packages/scipy/interpolate/interpolate.py:630: RuntimeWarning: divide by zero encountered in true_divide\n",
      "  slope = (y_hi - y_lo) / (x_hi - x_lo)[:, None]\n",
      "/home/dvdmrn/.local/lib/python3.8/site-packages/scipy/interpolate/interpolate.py:633: RuntimeWarning: invalid value encountered in multiply\n",
      "  y_new = slope*(x_new - x_lo)[:, None] + y_lo\n"
     ]
    },
    {
     "name": "stdout",
     "output_type": "stream",
     "text": [
      "concatenating pid: 16,trial: 10...\n",
      "accessing pid: 16; trial: 11; slideshow: B; viz A; session 4\n",
      " (128.60711407661438s)\n"
     ]
    },
    {
     "name": "stderr",
     "output_type": "stream",
     "text": [
      "/home/dvdmrn/.local/lib/python3.8/site-packages/scipy/interpolate/interpolate.py:630: RuntimeWarning: divide by zero encountered in true_divide\n",
      "  slope = (y_hi - y_lo) / (x_hi - x_lo)[:, None]\n",
      "/home/dvdmrn/.local/lib/python3.8/site-packages/scipy/interpolate/interpolate.py:633: RuntimeWarning: invalid value encountered in multiply\n",
      "  y_new = slope*(x_new - x_lo)[:, None] + y_lo\n"
     ]
    },
    {
     "name": "stdout",
     "output_type": "stream",
     "text": [
      "concatenating pid: 16,trial: 11...\n",
      "accessing pid: 16; trial: 12; slideshow: B; viz 0; session 4\n",
      " (128.98060011863708s)\n"
     ]
    },
    {
     "name": "stderr",
     "output_type": "stream",
     "text": [
      "/home/dvdmrn/.local/lib/python3.8/site-packages/scipy/interpolate/interpolate.py:630: RuntimeWarning: divide by zero encountered in true_divide\n",
      "  slope = (y_hi - y_lo) / (x_hi - x_lo)[:, None]\n",
      "/home/dvdmrn/.local/lib/python3.8/site-packages/scipy/interpolate/interpolate.py:633: RuntimeWarning: invalid value encountered in multiply\n",
      "  y_new = slope*(x_new - x_lo)[:, None] + y_lo\n"
     ]
    },
    {
     "name": "stdout",
     "output_type": "stream",
     "text": [
      "concatenating pid: 16,trial: 12...\n",
      "writing to: processed_data/16_interp_data.csv\n",
      "Empty DataFrame\n",
      "Columns: [pid, arousal, valence, timeS, slideshow, viz, session, trial]\n",
      "Index: []\n",
      "accessing pid: 20; trial: 1; slideshow: B; viz A; session 4\n",
      " (134.21577835083008s)\n"
     ]
    },
    {
     "name": "stderr",
     "output_type": "stream",
     "text": [
      "/home/dvdmrn/.local/lib/python3.8/site-packages/scipy/interpolate/interpolate.py:630: RuntimeWarning: divide by zero encountered in true_divide\n",
      "  slope = (y_hi - y_lo) / (x_hi - x_lo)[:, None]\n",
      "/home/dvdmrn/.local/lib/python3.8/site-packages/scipy/interpolate/interpolate.py:633: RuntimeWarning: invalid value encountered in multiply\n",
      "  y_new = slope*(x_new - x_lo)[:, None] + y_lo\n"
     ]
    },
    {
     "name": "stdout",
     "output_type": "stream",
     "text": [
      "concatenating pid: 20,trial: 1...\n",
      "accessing pid: 20; trial: 2; slideshow: A; viz 0; session 4\n",
      " (134.6459572315216s)\n"
     ]
    },
    {
     "name": "stderr",
     "output_type": "stream",
     "text": [
      "/home/dvdmrn/.local/lib/python3.8/site-packages/scipy/interpolate/interpolate.py:630: RuntimeWarning: divide by zero encountered in true_divide\n",
      "  slope = (y_hi - y_lo) / (x_hi - x_lo)[:, None]\n",
      "/home/dvdmrn/.local/lib/python3.8/site-packages/scipy/interpolate/interpolate.py:633: RuntimeWarning: invalid value encountered in multiply\n",
      "  y_new = slope*(x_new - x_lo)[:, None] + y_lo\n"
     ]
    },
    {
     "name": "stdout",
     "output_type": "stream",
     "text": [
      "concatenating pid: 20,trial: 2...\n",
      "accessing pid: 20; trial: 3; slideshow: A; viz B; session 4\n",
      " (135.41737127304077s)\n"
     ]
    },
    {
     "name": "stderr",
     "output_type": "stream",
     "text": [
      "/home/dvdmrn/.local/lib/python3.8/site-packages/scipy/interpolate/interpolate.py:630: RuntimeWarning: divide by zero encountered in true_divide\n",
      "  slope = (y_hi - y_lo) / (x_hi - x_lo)[:, None]\n",
      "/home/dvdmrn/.local/lib/python3.8/site-packages/scipy/interpolate/interpolate.py:633: RuntimeWarning: invalid value encountered in multiply\n",
      "  y_new = slope*(x_new - x_lo)[:, None] + y_lo\n"
     ]
    },
    {
     "name": "stdout",
     "output_type": "stream",
     "text": [
      "concatenating pid: 20,trial: 3...\n",
      "accessing pid: 20; trial: 4; slideshow: B; viz 0; session 4\n",
      " (136.15986680984497s)\n"
     ]
    },
    {
     "name": "stderr",
     "output_type": "stream",
     "text": [
      "/home/dvdmrn/.local/lib/python3.8/site-packages/scipy/interpolate/interpolate.py:630: RuntimeWarning: divide by zero encountered in true_divide\n",
      "  slope = (y_hi - y_lo) / (x_hi - x_lo)[:, None]\n",
      "/home/dvdmrn/.local/lib/python3.8/site-packages/scipy/interpolate/interpolate.py:633: RuntimeWarning: invalid value encountered in multiply\n",
      "  y_new = slope*(x_new - x_lo)[:, None] + y_lo\n"
     ]
    },
    {
     "name": "stdout",
     "output_type": "stream",
     "text": [
      "concatenating pid: 20,trial: 4...\n",
      "accessing pid: 20; trial: 5; slideshow: B; viz B; session 4\n",
      " (136.63787698745728s)\n"
     ]
    },
    {
     "name": "stderr",
     "output_type": "stream",
     "text": [
      "/home/dvdmrn/.local/lib/python3.8/site-packages/scipy/interpolate/interpolate.py:630: RuntimeWarning: divide by zero encountered in true_divide\n",
      "  slope = (y_hi - y_lo) / (x_hi - x_lo)[:, None]\n",
      "/home/dvdmrn/.local/lib/python3.8/site-packages/scipy/interpolate/interpolate.py:633: RuntimeWarning: invalid value encountered in multiply\n",
      "  y_new = slope*(x_new - x_lo)[:, None] + y_lo\n"
     ]
    },
    {
     "name": "stdout",
     "output_type": "stream",
     "text": [
      "concatenating pid: 20,trial: 5...\n",
      "accessing pid: 20; trial: 6; slideshow: A; viz B; session 4\n",
      " (137.06365513801575s)\n"
     ]
    },
    {
     "name": "stderr",
     "output_type": "stream",
     "text": [
      "/home/dvdmrn/.local/lib/python3.8/site-packages/scipy/interpolate/interpolate.py:630: RuntimeWarning: divide by zero encountered in true_divide\n",
      "  slope = (y_hi - y_lo) / (x_hi - x_lo)[:, None]\n",
      "/home/dvdmrn/.local/lib/python3.8/site-packages/scipy/interpolate/interpolate.py:633: RuntimeWarning: invalid value encountered in multiply\n",
      "  y_new = slope*(x_new - x_lo)[:, None] + y_lo\n"
     ]
    },
    {
     "name": "stdout",
     "output_type": "stream",
     "text": [
      "concatenating pid: 20,trial: 6...\n",
      "accessing pid: 20; trial: 7; slideshow: A; viz A; session 4\n",
      " (137.8870267868042s)\n"
     ]
    },
    {
     "name": "stderr",
     "output_type": "stream",
     "text": [
      "/home/dvdmrn/.local/lib/python3.8/site-packages/scipy/interpolate/interpolate.py:630: RuntimeWarning: divide by zero encountered in true_divide\n",
      "  slope = (y_hi - y_lo) / (x_hi - x_lo)[:, None]\n",
      "/home/dvdmrn/.local/lib/python3.8/site-packages/scipy/interpolate/interpolate.py:633: RuntimeWarning: invalid value encountered in multiply\n",
      "  y_new = slope*(x_new - x_lo)[:, None] + y_lo\n"
     ]
    },
    {
     "name": "stdout",
     "output_type": "stream",
     "text": [
      "concatenating pid: 20,trial: 7...\n",
      "accessing pid: 20; trial: 8; slideshow: B; viz 0; session 4\n",
      " (138.64752316474915s)\n"
     ]
    },
    {
     "name": "stderr",
     "output_type": "stream",
     "text": [
      "/home/dvdmrn/.local/lib/python3.8/site-packages/scipy/interpolate/interpolate.py:630: RuntimeWarning: divide by zero encountered in true_divide\n",
      "  slope = (y_hi - y_lo) / (x_hi - x_lo)[:, None]\n",
      "/home/dvdmrn/.local/lib/python3.8/site-packages/scipy/interpolate/interpolate.py:633: RuntimeWarning: invalid value encountered in multiply\n",
      "  y_new = slope*(x_new - x_lo)[:, None] + y_lo\n"
     ]
    },
    {
     "name": "stdout",
     "output_type": "stream",
     "text": [
      "concatenating pid: 20,trial: 8...\n",
      "accessing pid: 20; trial: 9; slideshow: B; viz B; session 4\n",
      " (139.11741662025452s)\n"
     ]
    },
    {
     "name": "stderr",
     "output_type": "stream",
     "text": [
      "/home/dvdmrn/.local/lib/python3.8/site-packages/scipy/interpolate/interpolate.py:630: RuntimeWarning: divide by zero encountered in true_divide\n",
      "  slope = (y_hi - y_lo) / (x_hi - x_lo)[:, None]\n",
      "/home/dvdmrn/.local/lib/python3.8/site-packages/scipy/interpolate/interpolate.py:633: RuntimeWarning: invalid value encountered in multiply\n",
      "  y_new = slope*(x_new - x_lo)[:, None] + y_lo\n"
     ]
    },
    {
     "name": "stdout",
     "output_type": "stream",
     "text": [
      "concatenating pid: 20,trial: 9...\n",
      "accessing pid: 20; trial: 10; slideshow: B; viz A; session 4\n",
      " (139.55419874191284s)\n"
     ]
    },
    {
     "name": "stderr",
     "output_type": "stream",
     "text": [
      "/home/dvdmrn/.local/lib/python3.8/site-packages/scipy/interpolate/interpolate.py:630: RuntimeWarning: divide by zero encountered in true_divide\n",
      "  slope = (y_hi - y_lo) / (x_hi - x_lo)[:, None]\n",
      "/home/dvdmrn/.local/lib/python3.8/site-packages/scipy/interpolate/interpolate.py:633: RuntimeWarning: invalid value encountered in multiply\n",
      "  y_new = slope*(x_new - x_lo)[:, None] + y_lo\n"
     ]
    },
    {
     "name": "stdout",
     "output_type": "stream",
     "text": [
      "concatenating pid: 20,trial: 10...\n",
      "accessing pid: 20; trial: 11; slideshow: A; viz A; session 4\n",
      " (139.98763012886047s)\n"
     ]
    },
    {
     "name": "stderr",
     "output_type": "stream",
     "text": [
      "/home/dvdmrn/.local/lib/python3.8/site-packages/scipy/interpolate/interpolate.py:630: RuntimeWarning: divide by zero encountered in true_divide\n",
      "  slope = (y_hi - y_lo) / (x_hi - x_lo)[:, None]\n",
      "/home/dvdmrn/.local/lib/python3.8/site-packages/scipy/interpolate/interpolate.py:633: RuntimeWarning: invalid value encountered in multiply\n",
      "  y_new = slope*(x_new - x_lo)[:, None] + y_lo\n"
     ]
    },
    {
     "name": "stdout",
     "output_type": "stream",
     "text": [
      "concatenating pid: 20,trial: 11...\n",
      "accessing pid: 20; trial: 12; slideshow: A; viz 0; session 4\n",
      " (140.75486707687378s)\n"
     ]
    },
    {
     "name": "stderr",
     "output_type": "stream",
     "text": [
      "/home/dvdmrn/.local/lib/python3.8/site-packages/scipy/interpolate/interpolate.py:630: RuntimeWarning: divide by zero encountered in true_divide\n",
      "  slope = (y_hi - y_lo) / (x_hi - x_lo)[:, None]\n",
      "/home/dvdmrn/.local/lib/python3.8/site-packages/scipy/interpolate/interpolate.py:633: RuntimeWarning: invalid value encountered in multiply\n",
      "  y_new = slope*(x_new - x_lo)[:, None] + y_lo\n"
     ]
    },
    {
     "name": "stdout",
     "output_type": "stream",
     "text": [
      "concatenating pid: 20,trial: 12...\n",
      "writing to: processed_data/20_interp_data.csv\n",
      "complete!\n"
     ]
    }
   ],
   "source": [
    "\n",
    "startTime = t.time()\n",
    "\n",
    "startPid = 0\n",
    "startTrial = 0\n",
    "\n",
    "dt = np.dtype([('pid', np.int8),\n",
    "               ('arousal', np.float64),\n",
    "               ('valence', np.float64),\n",
    "               ('timeS', np.float64),\n",
    "               ('slideshow', 'U1'),\n",
    "               ('viz', 'U1'),\n",
    "               ('session', 'U1'),\n",
    "               ('trial', np.int8), ])\n",
    "\n",
    "\n",
    "for pid in set(LONG_DF.pid):\n",
    "    \n",
    "    if(pid >= startPid):\n",
    "        mommyArr = np.empty([0], dtype=dt)\n",
    "        print(pd.DataFrame(mommyArr))\n",
    "        # allocate new array for the dataframes\n",
    "        # dfArray = np.empty(len(set(LONG_DF.pid)) *\n",
    "        #                    len(set(LONG_DF.trial)), dtype=pd.DataFrame)\n",
    "\n",
    "        # dfArray = np.empty(len(set(LONG_DF.trial)), dtype=pd.DataFrame) # dataframe array\n",
    "        for trial in set(LONG_DF.trial):\n",
    "            if(trial >= startTrial):\n",
    "                slideshow = LONG_DF.loc[(LONG_DF.pid == pid) & (\n",
    "                    LONG_DF.trial == trial)].slideshow.iloc[0]\n",
    "                viz = LONG_DF.loc[(LONG_DF.pid == pid) & (\n",
    "                    LONG_DF.trial == trial)].viz.iloc[0]\n",
    "                session = LONG_DF.loc[(LONG_DF.pid == pid) & (\n",
    "                    LONG_DF.trial == trial)].session.iloc[0]\n",
    "                print(f'accessing pid: {pid}; trial: {trial}; slideshow: {slideshow}; viz {viz}; session {session}\\n ({t.time() - startTime}s)')\n",
    "                time, valence, arousal = resample_cursor_data(pid, trial)\n",
    "\n",
    "                arr = np.empty([len(time)], dtype=dt)\n",
    "                for i in range(0, len(time)):\n",
    "                    arr[i]['pid'] = pid\n",
    "                    arr[i]['arousal'] = arousal[i]\n",
    "                    arr[i]['valence'] = valence[i]\n",
    "                    arr[i]['timeS'] = time[i]\n",
    "                    arr[i]['slideshow'] = slideshow\n",
    "                    arr[i]['viz'] = viz\n",
    "                    arr[i]['session'] = session\n",
    "                    arr[i]['trial'] = trial\n",
    "                \n",
    "                # filePath = f'processed_data/pid{pid}trial{trial}interp.csv'\n",
    "                \n",
    "                # print(f'writing to: {filePath}')\n",
    "                # pd.DataFrame(arr).to_csv(filePath, index=False)\n",
    "                \n",
    "                print(f'concatenating pid: {pid},trial: {trial}...')\n",
    "                mommyArr = np.append(mommyArr,arr)\n",
    "                arr = None \n",
    "                time = None \n",
    "                valence = None \n",
    "                arousal = None \n",
    "        \n",
    "        print(f'writing to: processed_data/{pid}_interp_data.csv')\n",
    "        pd.DataFrame(mommyArr).to_csv(f'processed_data/pid{pid}-interpData.csv',index=False)\n",
    "        mommyArr = None\n",
    "\n",
    "print('complete!')\n",
    "\n"
   ]
  },
  {
   "cell_type": "code",
   "execution_count": null,
   "metadata": {},
   "outputs": [],
   "source": [
    "# time, valence, arousal = resample_cursor_data(1, 2)\n",
    "\n"
   ]
  },
  {
   "cell_type": "code",
   "execution_count": 15,
   "metadata": {},
   "outputs": [
    {
     "name": "stdout",
     "output_type": "stream",
     "text": [
      "   pid  arousal  valence\n",
      "0    0      6.9    13.37\n",
      "1    1      6.9    13.37\n",
      "2    2      6.9    13.37\n",
      "3    3      6.9    13.37\n",
      "4    4      6.9    13.37\n",
      "5    0      6.9    13.37\n",
      "6    1      6.9    13.37\n",
      "7    2      6.9    13.37\n",
      "8    3      6.9    13.37\n",
      "9    4      6.9    13.37\n"
     ]
    }
   ],
   "source": [
    "dt = np.dtype([('pid', np.int8),\n",
    "               ('arousal', np.float64),\n",
    "               ('valence', np.float64),\n",
    "                ])\n",
    "                \n",
    "arr = np.empty([5], dtype=dt)\n",
    "\n",
    "arr0 = np.empty([0], dtype=dt)\n",
    "\n",
    "for i in range(0,5):\n",
    "    arr[i]['pid'] = i;\n",
    "    arr[i]['arousal'] = 6.9\n",
    "    arr[i]['valence'] = 13.37\n",
    "\n",
    "arr0 = np.append(arr0, arr)\n",
    "arr0 = np.append(arr0, arr)\n",
    "\n",
    "print(pd.DataFrame(arr0))\n",
    "\n",
    "# ndf = pd.DataFrame({\"c1\":[1,23,432,23,1], \"c2\":[14,23,432,1111,99]})\n",
    "# dfArray\n"
   ]
  },
  {
   "cell_type": "code",
   "execution_count": 19,
   "metadata": {},
   "outputs": [
    {
     "name": "stderr",
     "output_type": "stream",
     "text": [
      "/home/dvdmrn/.local/lib/python3.8/site-packages/scipy/interpolate/interpolate.py:630: RuntimeWarning: divide by zero encountered in true_divide\n",
      "  slope = (y_hi - y_lo) / (x_hi - x_lo)[:, None]\n",
      "/home/dvdmrn/.local/lib/python3.8/site-packages/scipy/interpolate/interpolate.py:633: RuntimeWarning: invalid value encountered in multiply\n",
      "  y_new = slope*(x_new - x_lo)[:, None] + y_lo\n"
     ]
    },
    {
     "name": "stdout",
     "output_type": "stream",
     "text": [
      "[ 1.      1.0005  1.001  ... 34.0685 34.069  34.0695]\n"
     ]
    },
    {
     "data": {
      "image/png": "[encoded data removed]",
      "text/plain": [
       "<Figure size 432x288 with 1 Axes>"
      ]
     },
     "metadata": {
      "needs_background": "light"
     },
     "output_type": "display_data"
    }
   ],
   "source": [
    "# # Read test data.\n",
    "# filename = \"PID_9__2021-9-7_20h5-11.json\"\n",
    "# trial_no = 8\n",
    "\n",
    "# # Get filepath.\n",
    "# filepath = os.path.join(DATA_PATH, filename)\n",
    "\n",
    "# # Load and clean data.\n",
    "# df = pd.read_json(filepath)\n",
    "# df, pid = clean_data(df)\n",
    "\n",
    "# Extract trial and resample cursor data.\n",
    "# tmp = df.iloc[trial_no - 1]['time_series']\n",
    "time, valence, arousal = resample_cursor_data(9,12)\n",
    "\n",
    "print(time)\n",
    "my_plot(time, valence, arousal)\n",
    "time    = None\n",
    "valence = None \n",
    "arousal = None\n",
    "\n"
   ]
  },
  {
   "cell_type": "code",
   "execution_count": 13,
   "metadata": {},
   "outputs": [
    {
     "name": "stdout",
     "output_type": "stream",
     "text": [
      "2\n",
      "3\n",
      "4\n",
      "5\n",
      "6\n",
      "7\n",
      "8\n",
      "9\n"
     ]
    }
   ],
   "source": []
  }
 ],
 "metadata": {
  "interpreter": {
   "hash": "31f2aee4e71d21fbe5cf8b01ff0e069b9275f58929596ceb00d14d90e3e16cd6"
  },
  "kernelspec": {
   "display_name": "Python 3.8.10 64-bit",
   "name": "python3"
  },
  "language_info": {
   "codemirror_mode": {
    "name": "ipython",
    "version": 3
   },
   "file_extension": ".py",
   "mimetype": "text/x-python",
   "name": "python",
   "nbconvert_exporter": "python",
   "pygments_lexer": "ipython3",
   "version": "3.8.10"
  },
  "orig_nbformat": 4
 },
 "nbformat": 4,
 "nbformat_minor": 2
}
