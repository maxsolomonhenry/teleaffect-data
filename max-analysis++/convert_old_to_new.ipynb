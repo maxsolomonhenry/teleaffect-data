{
 "cells": [
  {
   "cell_type": "markdown",
   "metadata": {},
   "source": [
    "Converts old structured data (entire session in one JSON) to new (1 JSON = 1 trial)"
   ]
  },
  {
   "cell_type": "code",
   "execution_count": 45,
   "metadata": {},
   "outputs": [],
   "source": [
    "import pandas as pd\n",
    "import json"
   ]
  },
  {
   "cell_type": "code",
   "execution_count": 44,
   "metadata": {},
   "outputs": [
    {
     "data": {
      "text/plain": [
       "13"
      ]
     },
     "execution_count": 44,
     "metadata": {},
     "output_type": "execute_result"
    }
   ],
   "source": [
    "FILE_PATH = \"data_to_process/old_structure/PID_9__2021-9-7_20h5-11.json\"\n",
    "p9 = pd.read_json(FILE_PATH)\n",
    "len(p9)\n"
   ]
  },
  {
   "cell_type": "code",
   "execution_count": 73,
   "metadata": {},
   "outputs": [
    {
     "name": "stdout",
     "output_type": "stream",
     "text": [
      "writing: PID-9_trial-1_datetime-2021-9-7_20h5-11.json\n",
      "writing: PID-9_trial-2_datetime-2021-9-7_20h5-11.json\n",
      "writing: PID-9_trial-3_datetime-2021-9-7_20h5-11.json\n",
      "writing: PID-9_trial-4_datetime-2021-9-7_20h5-11.json\n",
      "writing: PID-9_trial-5_datetime-2021-9-7_20h5-11.json\n",
      "writing: PID-9_trial-6_datetime-2021-9-7_20h5-11.json\n",
      "writing: PID-9_trial-7_datetime-2021-9-7_20h5-11.json\n",
      "writing: PID-9_trial-8_datetime-2021-9-7_20h5-11.json\n",
      "writing: PID-9_trial-9_datetime-2021-9-7_20h5-11.json\n",
      "writing: PID-9_trial-10_datetime-2021-9-7_20h5-11.json\n",
      "writing: PID-9_trial-11_datetime-2021-9-7_20h5-11.json\n",
      "writing: PID-9_trial-12_datetime-2021-9-7_20h5-11.json\n"
     ]
    }
   ],
   "source": [
    "\n",
    "def removeDuplicates(ts):\n",
    "    ''' \n",
    "        removes le duplicates\n",
    "        if there are duplicates, preserves the last element.\n",
    "    '''\n",
    "    new = []\n",
    "    for i in range(0,len(ts)):\n",
    "        if(ts[min(i+1, len(ts)-1)]['timeMs'] != ts[i]['timeMs']):\n",
    "            new.append(ts[i])\n",
    "    return(new)\n",
    "\n",
    "def restructureData(df):\n",
    "    for i in range(1, len(df)):\n",
    "        base = {\"condition\":\"\",\"time_series\":[]}\n",
    "        base[\"condition\"] = df.condition[i]\n",
    "        base[\"time_series\"] = removeDuplicates(df.time_series[i])\n",
    "        fileName = f\"PID-{int(df.PID[0])}_trial-{i}_datetime-{FILE_PATH[-21:]}\"\n",
    "        with open(fileName, 'w', encoding='utf-8') as f:\n",
    "            print(f'writing: {fileName}')\n",
    "            json.dump(base, f, ensure_ascii=False, indent=4)\n",
    "\n",
    "restructureData(p9)\n"
   ]
  }
 ],
 "metadata": {
  "interpreter": {
   "hash": "31f2aee4e71d21fbe5cf8b01ff0e069b9275f58929596ceb00d14d90e3e16cd6"
  },
  "kernelspec": {
   "display_name": "Python 3.8.10 64-bit",
   "name": "python3"
  },
  "language_info": {
   "codemirror_mode": {
    "name": "ipython",
    "version": 3
   },
   "file_extension": ".py",
   "mimetype": "text/x-python",
   "name": "python",
   "nbconvert_exporter": "python",
   "pygments_lexer": "ipython3",
   "version": "3.8.10"
  },
  "orig_nbformat": 4
 },
 "nbformat": 4,
 "nbformat_minor": 2
}
